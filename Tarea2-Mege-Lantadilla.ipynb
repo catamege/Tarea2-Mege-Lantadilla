{
 "cells": [
  {
   "cell_type": "markdown",
   "metadata": {
    "id": "IbwtDKkSJxE9"
   },
   "source": [
    "EAE3709 APLICACIONES DE  MACHINE LEARNING EN ECONOMÍA <br>\n",
    "1ER SEMESTRE 2025 <br>\n",
    "INSTITUTO DE ECONOMÍA <br>\n",
    "PONTIFICIA UNIVERSIDAD CATÓLICA DE CHILE\n",
    "\n",
    "\n",
    "# **TAREA 2**\n",
    "\n",
    "\n",
    "---\n",
    "\n",
    "\n",
    "Profesor:\n",
    "- Joaquín Pérez Lapillo\n",
    "\n",
    "Ayudantes:\n",
    "\n",
    "- Luis García B.\n",
    "- Sebastián Hernández B.\n",
    "- Oscar Herrera G.\n"
   ]
  },
  {
   "cell_type": "markdown",
   "metadata": {
    "id": "xCs4syNLJ9Gh"
   },
   "source": [
    "**Complete sus datos:**\n",
    "\n",
    "- Nombre y apellido:\n",
    "  - Catalina Mege\n",
    "  - Fernanda Lantadilla\n",
    "- Usuario de GitHub (opcional):  catamege\n"
   ]
  },
  {
   "cell_type": "markdown",
   "metadata": {
    "id": "tP_MIjWrKFqN"
   },
   "source": [
    "## Instrucciones\n",
    "\n",
    "- Descargue el notebook y cárguelo en su Drive.\n",
    "- Todas las preguntas deben ser contestadas en su notebook.\n",
    "- Para que una pregunta esté correcta el código debe correr.\n",
    "- Si es necesario, realice comentarios breves en su código explicando lo que está realizando o sus resultados.\n",
    "- Una vez culminada su tarea, suba su notebook al buzón de tareas de Canvas.\n",
    "- La fecha y hora límite de esta tarea es el _**viernes 30 de mayo a las 20:00 hrs**_.\n",
    "\n"
   ]
  },
  {
   "cell_type": "markdown",
   "metadata": {
    "id": "9pYuXYGfJ3a7"
   },
   "source": [
    "### Distribución de puntaje\n",
    "\n",
    "\n",
    "| Pregunta                        | Puntaje |\n",
    "|--------------------------------|---------|\n",
    "| Pregunta 1.0                   |    1    |\n",
    "| Pregunta 1.1                   |    2    |\n",
    "| Pregunta 1.2                   |    2    |\n",
    "| Pregunta 1.3                   |    2    |\n",
    "| Pregunta 1.4                   |    5    |\n",
    "| Pregunta 1.5                   |    5    |\n",
    "| Pregunta 1.6                   |    2    |\n",
    "| Pregunta 1.7                   |    2    |\n",
    "| Pregunta 1.8                   |    3    |\n",
    "| Pregunta 1.9                   |    3    |\n",
    "| Pregunta 1.10                   |    5    |\n",
    "| Pregunta 1.11                   |    5    |\n",
    "| Pregunta 1.12                   |    5    |\n",
    "| Pregunta 1.13                   |    3    |\n",
    "| Pregunta 1.13                   |    5    |\n",
    "| Pregunta 2.0                   |    1    |\n",
    "| Pregunta 2.1                   |    1    |\n",
    "| Pregunta 2.2                   |    1    |\n",
    "| Pregunta 2.3                   |    3    |\n",
    "| Pregunta 2.4                   |    5    |\n",
    "| Pregunta 2.5                   |    3    |\n",
    "| Pregunta 2.6                   |    3    |\n",
    "| Pregunta 2.7                   |    3    |\n",
    "| Pregunta 2.8                   |    5    |\n",
    "| Pregunta 2.9                   |    7    |\n",
    "| Pregunta 2.10                   |    4    |\n",
    "| Pregunta 2.11                   |    3    |\n",
    "| Pregunta 2.12                   |    1    |\n",
    "| Pregunta 2.13                   |    2    |\n",
    "| Pregunta 2.14                   |    3    |\n",
    "| Pregunta 2.15                   |    2    |\n",
    "| Pregunta 2.16                   |    3    |\n",
    "\n",
    "Total: 100 pts.\n"
   ]
  },
  {
   "cell_type": "markdown",
   "metadata": {
    "id": "ta7jj9uDKYE9"
   },
   "source": [
    "# 1. Clasificación\n",
    "\n",
    "En esta pregunta trabajaremos con un _dataset_ que contiene información campañas de marketing de un banco portugués. La campaña se enfocó en llamadas telefónicas a distintos segmentos de clientes, de forma individualizada, con el objetivo incenitvar la toma depósitos por parte de los clientes.\n",
    "\n",
    "El problema presentado en este ejecicio busca predecir si el cliente suscribirá (sí/no) un depósito a plazo.\n",
    "\n",
    "\n",
    "\n",
    "A continuación, se despliega información oficial sobre el _dataset_:\n",
    "\n",
    "| Variable Name | Role    | Type        | Description                                                                                                                               |\n",
    "|---------------|---------|-------------|-------------------------------------------------------------------------------------------------------------------------------------------|\n",
    "| age           | Feature | Integer     |     years of age                                                                                                                                      |\n",
    "| job           | Feature | Categorical | type of job |\n",
    "| marital       | Feature | Categorical | marital status                          |\n",
    "| education     | Feature | Categorical | Education level         |\n",
    "| default       | Feature | Binary      | has credit in default?                                                                                                                    |\n",
    "| balance       | Feature | Integer     | average yearly balance in euros                                                                                                                    |\n",
    "| housing       | Feature | Binary      | has housing loan?                                                                                                                         |\n",
    "| loan          | Feature | Binary      | has personal loan?                                                                                                                        |\n",
    "| contact       | Feature | Categorical | contact communication type                                                                         |\n",
    "| day_of_week   | Feature | Date        | last contact day of the month (numeric)                                                                                                              |\n",
    "| month         | Feature | Date        | last contact month of year (categorical: 'jan', 'feb', 'mar', ..., 'nov', 'dec')                                                          |\n",
    "| duration*      | Feature | Integer     | last contact duration, in seconds (numeric).  |\n",
    "| campaign      | Feature | Integer     | number of contacts performed during this campaign and for this client                                      |\n",
    "| pdays         | Feature | Integer     | number of days that passed by after the client was last contacted from a previous campaign (numeric; -1 means client was not previously contacted) |\n",
    "| previous      | Feature | Integer     | number of contacts performed before this campaign and for this client                                                                       |\n",
    "| poutcome      | Feature | Categorical | outcome of the previous marketing campaign                                                |\n",
    "| y             | Target  | Binary      | has the client subscribed a term deposit?                                                                                                 |\n",
    "\n",
    "\n",
    "*Important note: this attribute highly affects the output target (e.g., if duration=0 then y='no'). Yet, the duration is not known before a call is performed. Also, after the end of the call y is obviously known. Thus, this input should only be included for benchmark purposes and should be discarded if the intention is to have a realistic predictive model.\n",
    "\n"
   ]
  },
  {
   "cell_type": "markdown",
   "metadata": {
    "id": "har2GXmULidn"
   },
   "source": [
    "En el sitio web [https://archive.ics.uci.edu/dataset/222/bank+marketing](https://archive.ics.uci.edu/dataset/222/bank+marketing) podrá encontrar información oficial del _dataset_.\n",
    "\n",
    "Use el código otorgado a continuación para importar los datos.\n"
   ]
  },
  {
   "cell_type": "code",
   "execution_count": 1,
   "metadata": {
    "colab": {
     "base_uri": "https://localhost:8080/"
    },
    "id": "BCZqCx5m1hAM",
    "outputId": "fee88b93-79dd-4b15-d2de-228989c73630"
   },
   "outputs": [
    {
     "name": "stdout",
     "output_type": "stream",
     "text": [
      "Defaulting to user installation because normal site-packages is not writeable\n",
      "Requirement already satisfied: ucimlrepo in /Users/catamege/Library/Python/3.9/lib/python/site-packages (0.0.7)\n",
      "Requirement already satisfied: certifi>=2020.12.5 in /Users/catamege/Library/Python/3.9/lib/python/site-packages (from ucimlrepo) (2025.4.26)\n",
      "Requirement already satisfied: pandas>=1.0.0 in /Users/catamege/Library/Python/3.9/lib/python/site-packages (from ucimlrepo) (2.2.3)\n",
      "Requirement already satisfied: python-dateutil>=2.8.2 in /Users/catamege/Library/Python/3.9/lib/python/site-packages (from pandas>=1.0.0->ucimlrepo) (2.9.0.post0)\n",
      "Requirement already satisfied: numpy>=1.22.4 in /Users/catamege/Library/Python/3.9/lib/python/site-packages (from pandas>=1.0.0->ucimlrepo) (2.0.2)\n",
      "Requirement already satisfied: pytz>=2020.1 in /Users/catamege/Library/Python/3.9/lib/python/site-packages (from pandas>=1.0.0->ucimlrepo) (2025.2)\n",
      "Requirement already satisfied: tzdata>=2022.7 in /Users/catamege/Library/Python/3.9/lib/python/site-packages (from pandas>=1.0.0->ucimlrepo) (2025.2)\n",
      "Requirement already satisfied: six>=1.5 in /Library/Developer/CommandLineTools/Library/Frameworks/Python3.framework/Versions/3.9/lib/python3.9/site-packages (from python-dateutil>=2.8.2->pandas>=1.0.0->ucimlrepo) (1.15.0)\n",
      "\u001b[33mWARNING: You are using pip version 21.2.4; however, version 25.1.1 is available.\n",
      "You should consider upgrading via the '/Library/Developer/CommandLineTools/usr/bin/python3 -m pip install --upgrade pip' command.\u001b[0m\n",
      "Note: you may need to restart the kernel to use updated packages.\n"
     ]
    }
   ],
   "source": [
    "pip install ucimlrepo"
   ]
  },
  {
   "cell_type": "code",
   "execution_count": 2,
   "metadata": {},
   "outputs": [
    {
     "name": "stdout",
     "output_type": "stream",
     "text": [
      "Defaulting to user installation because normal site-packages is not writeable\n",
      "Requirement already satisfied: seaborn in /Users/catamege/Library/Python/3.9/lib/python/site-packages (0.13.2)\n",
      "Requirement already satisfied: matplotlib in /Users/catamege/Library/Python/3.9/lib/python/site-packages (3.9.4)\n",
      "Requirement already satisfied: numpy!=1.24.0,>=1.20 in /Users/catamege/Library/Python/3.9/lib/python/site-packages (from seaborn) (2.0.2)\n",
      "Requirement already satisfied: pandas>=1.2 in /Users/catamege/Library/Python/3.9/lib/python/site-packages (from seaborn) (2.2.3)\n",
      "Requirement already satisfied: cycler>=0.10 in /Users/catamege/Library/Python/3.9/lib/python/site-packages (from matplotlib) (0.12.1)\n",
      "Requirement already satisfied: python-dateutil>=2.7 in /Users/catamege/Library/Python/3.9/lib/python/site-packages (from matplotlib) (2.9.0.post0)\n",
      "Requirement already satisfied: fonttools>=4.22.0 in /Users/catamege/Library/Python/3.9/lib/python/site-packages (from matplotlib) (4.58.1)\n",
      "Requirement already satisfied: contourpy>=1.0.1 in /Users/catamege/Library/Python/3.9/lib/python/site-packages (from matplotlib) (1.3.0)\n",
      "Requirement already satisfied: importlib-resources>=3.2.0 in /Users/catamege/Library/Python/3.9/lib/python/site-packages (from matplotlib) (6.5.2)\n",
      "Requirement already satisfied: pillow>=8 in /Users/catamege/Library/Python/3.9/lib/python/site-packages (from matplotlib) (11.2.1)\n",
      "Requirement already satisfied: pyparsing>=2.3.1 in /Users/catamege/Library/Python/3.9/lib/python/site-packages (from matplotlib) (3.2.3)\n",
      "Requirement already satisfied: packaging>=20.0 in /Users/catamege/Library/Python/3.9/lib/python/site-packages (from matplotlib) (25.0)\n",
      "Requirement already satisfied: kiwisolver>=1.3.1 in /Users/catamege/Library/Python/3.9/lib/python/site-packages (from matplotlib) (1.4.7)\n",
      "Requirement already satisfied: zipp>=3.1.0 in /Users/catamege/Library/Python/3.9/lib/python/site-packages (from importlib-resources>=3.2.0->matplotlib) (3.22.0)\n",
      "Requirement already satisfied: tzdata>=2022.7 in /Users/catamege/Library/Python/3.9/lib/python/site-packages (from pandas>=1.2->seaborn) (2025.2)\n",
      "Requirement already satisfied: pytz>=2020.1 in /Users/catamege/Library/Python/3.9/lib/python/site-packages (from pandas>=1.2->seaborn) (2025.2)\n",
      "Requirement already satisfied: six>=1.5 in /Library/Developer/CommandLineTools/Library/Frameworks/Python3.framework/Versions/3.9/lib/python3.9/site-packages (from python-dateutil>=2.7->matplotlib) (1.15.0)\n",
      "\u001b[33mWARNING: You are using pip version 21.2.4; however, version 25.1.1 is available.\n",
      "You should consider upgrading via the '/Library/Developer/CommandLineTools/usr/bin/python3 -m pip install --upgrade pip' command.\u001b[0m\n",
      "Note: you may need to restart the kernel to use updated packages.\n"
     ]
    }
   ],
   "source": [
    "pip install seaborn matplotlib"
   ]
  },
  {
   "cell_type": "code",
   "execution_count": 3,
   "metadata": {
    "id": "ZT4BhuBqoPnZ"
   },
   "outputs": [],
   "source": [
    "from ucimlrepo import fetch_ucirepo\n",
    "\n",
    "# fetch dataset\n",
    "bank_marketing = fetch_ucirepo(id=222)\n",
    "\n",
    "# data (as pandas dataframes)\n",
    "X = bank_marketing.data.features\n",
    "y = bank_marketing.data.targets\n"
   ]
  },
  {
   "cell_type": "markdown",
   "metadata": {
    "id": "gZqBWZNoR8tT"
   },
   "source": [
    "## Exploratory Data Analysis (EDA)"
   ]
  },
  {
   "cell_type": "markdown",
   "metadata": {
    "id": "xno35JpIM78W"
   },
   "source": [
    "### Pregunta 1.0\n",
    "\n",
    "Concatene `X` e `y` en un dataframe consolidado.\n",
    "\n",
    "Muestre las primeras cinco observaciones en el dataframe consolidado. Despliegue información sobre el tipo de variable de cada una de las columnas del dataframe y despliegue estadísticas descriptivas de las variables según su tipo."
   ]
  },
  {
   "cell_type": "code",
   "execution_count": 4,
   "metadata": {
    "id": "SOkOwosvmRGG"
   },
   "outputs": [],
   "source": [
    "import pandas as pd\n",
    "\n",
    "# Unir features (X) y target (y) en un solo dataframe\n",
    "df = pd.concat([X, y], axis=1)\n"
   ]
  },
  {
   "cell_type": "code",
   "execution_count": 5,
   "metadata": {},
   "outputs": [
    {
     "data": {
      "text/html": [
       "<div>\n",
       "<style scoped>\n",
       "    .dataframe tbody tr th:only-of-type {\n",
       "        vertical-align: middle;\n",
       "    }\n",
       "\n",
       "    .dataframe tbody tr th {\n",
       "        vertical-align: top;\n",
       "    }\n",
       "\n",
       "    .dataframe thead th {\n",
       "        text-align: right;\n",
       "    }\n",
       "</style>\n",
       "<table border=\"1\" class=\"dataframe\">\n",
       "  <thead>\n",
       "    <tr style=\"text-align: right;\">\n",
       "      <th></th>\n",
       "      <th>age</th>\n",
       "      <th>job</th>\n",
       "      <th>marital</th>\n",
       "      <th>education</th>\n",
       "      <th>default</th>\n",
       "      <th>balance</th>\n",
       "      <th>housing</th>\n",
       "      <th>loan</th>\n",
       "      <th>contact</th>\n",
       "      <th>day_of_week</th>\n",
       "      <th>month</th>\n",
       "      <th>duration</th>\n",
       "      <th>campaign</th>\n",
       "      <th>pdays</th>\n",
       "      <th>previous</th>\n",
       "      <th>poutcome</th>\n",
       "      <th>y</th>\n",
       "    </tr>\n",
       "  </thead>\n",
       "  <tbody>\n",
       "    <tr>\n",
       "      <th>0</th>\n",
       "      <td>58</td>\n",
       "      <td>management</td>\n",
       "      <td>married</td>\n",
       "      <td>tertiary</td>\n",
       "      <td>no</td>\n",
       "      <td>2143</td>\n",
       "      <td>yes</td>\n",
       "      <td>no</td>\n",
       "      <td>NaN</td>\n",
       "      <td>5</td>\n",
       "      <td>may</td>\n",
       "      <td>261</td>\n",
       "      <td>1</td>\n",
       "      <td>-1</td>\n",
       "      <td>0</td>\n",
       "      <td>NaN</td>\n",
       "      <td>no</td>\n",
       "    </tr>\n",
       "    <tr>\n",
       "      <th>1</th>\n",
       "      <td>44</td>\n",
       "      <td>technician</td>\n",
       "      <td>single</td>\n",
       "      <td>secondary</td>\n",
       "      <td>no</td>\n",
       "      <td>29</td>\n",
       "      <td>yes</td>\n",
       "      <td>no</td>\n",
       "      <td>NaN</td>\n",
       "      <td>5</td>\n",
       "      <td>may</td>\n",
       "      <td>151</td>\n",
       "      <td>1</td>\n",
       "      <td>-1</td>\n",
       "      <td>0</td>\n",
       "      <td>NaN</td>\n",
       "      <td>no</td>\n",
       "    </tr>\n",
       "    <tr>\n",
       "      <th>2</th>\n",
       "      <td>33</td>\n",
       "      <td>entrepreneur</td>\n",
       "      <td>married</td>\n",
       "      <td>secondary</td>\n",
       "      <td>no</td>\n",
       "      <td>2</td>\n",
       "      <td>yes</td>\n",
       "      <td>yes</td>\n",
       "      <td>NaN</td>\n",
       "      <td>5</td>\n",
       "      <td>may</td>\n",
       "      <td>76</td>\n",
       "      <td>1</td>\n",
       "      <td>-1</td>\n",
       "      <td>0</td>\n",
       "      <td>NaN</td>\n",
       "      <td>no</td>\n",
       "    </tr>\n",
       "    <tr>\n",
       "      <th>3</th>\n",
       "      <td>47</td>\n",
       "      <td>blue-collar</td>\n",
       "      <td>married</td>\n",
       "      <td>NaN</td>\n",
       "      <td>no</td>\n",
       "      <td>1506</td>\n",
       "      <td>yes</td>\n",
       "      <td>no</td>\n",
       "      <td>NaN</td>\n",
       "      <td>5</td>\n",
       "      <td>may</td>\n",
       "      <td>92</td>\n",
       "      <td>1</td>\n",
       "      <td>-1</td>\n",
       "      <td>0</td>\n",
       "      <td>NaN</td>\n",
       "      <td>no</td>\n",
       "    </tr>\n",
       "    <tr>\n",
       "      <th>4</th>\n",
       "      <td>33</td>\n",
       "      <td>NaN</td>\n",
       "      <td>single</td>\n",
       "      <td>NaN</td>\n",
       "      <td>no</td>\n",
       "      <td>1</td>\n",
       "      <td>no</td>\n",
       "      <td>no</td>\n",
       "      <td>NaN</td>\n",
       "      <td>5</td>\n",
       "      <td>may</td>\n",
       "      <td>198</td>\n",
       "      <td>1</td>\n",
       "      <td>-1</td>\n",
       "      <td>0</td>\n",
       "      <td>NaN</td>\n",
       "      <td>no</td>\n",
       "    </tr>\n",
       "  </tbody>\n",
       "</table>\n",
       "</div>"
      ],
      "text/plain": [
       "   age           job  marital  education default  balance housing loan  \\\n",
       "0   58    management  married   tertiary      no     2143     yes   no   \n",
       "1   44    technician   single  secondary      no       29     yes   no   \n",
       "2   33  entrepreneur  married  secondary      no        2     yes  yes   \n",
       "3   47   blue-collar  married        NaN      no     1506     yes   no   \n",
       "4   33           NaN   single        NaN      no        1      no   no   \n",
       "\n",
       "  contact  day_of_week month  duration  campaign  pdays  previous poutcome   y  \n",
       "0     NaN            5   may       261         1     -1         0      NaN  no  \n",
       "1     NaN            5   may       151         1     -1         0      NaN  no  \n",
       "2     NaN            5   may        76         1     -1         0      NaN  no  \n",
       "3     NaN            5   may        92         1     -1         0      NaN  no  \n",
       "4     NaN            5   may       198         1     -1         0      NaN  no  "
      ]
     },
     "execution_count": 5,
     "metadata": {},
     "output_type": "execute_result"
    }
   ],
   "source": [
    "df.head()"
   ]
  },
  {
   "cell_type": "code",
   "execution_count": 6,
   "metadata": {},
   "outputs": [
    {
     "name": "stdout",
     "output_type": "stream",
     "text": [
      "<class 'pandas.core.frame.DataFrame'>\n",
      "RangeIndex: 45211 entries, 0 to 45210\n",
      "Data columns (total 17 columns):\n",
      " #   Column       Non-Null Count  Dtype \n",
      "---  ------       --------------  ----- \n",
      " 0   age          45211 non-null  int64 \n",
      " 1   job          44923 non-null  object\n",
      " 2   marital      45211 non-null  object\n",
      " 3   education    43354 non-null  object\n",
      " 4   default      45211 non-null  object\n",
      " 5   balance      45211 non-null  int64 \n",
      " 6   housing      45211 non-null  object\n",
      " 7   loan         45211 non-null  object\n",
      " 8   contact      32191 non-null  object\n",
      " 9   day_of_week  45211 non-null  int64 \n",
      " 10  month        45211 non-null  object\n",
      " 11  duration     45211 non-null  int64 \n",
      " 12  campaign     45211 non-null  int64 \n",
      " 13  pdays        45211 non-null  int64 \n",
      " 14  previous     45211 non-null  int64 \n",
      " 15  poutcome     8252 non-null   object\n",
      " 16  y            45211 non-null  object\n",
      "dtypes: int64(7), object(10)\n",
      "memory usage: 5.9+ MB\n"
     ]
    }
   ],
   "source": [
    "df.info()\n",
    "\n",
    "#45211 observaciones y 17 variables"
   ]
  },
  {
   "cell_type": "code",
   "execution_count": 7,
   "metadata": {},
   "outputs": [
    {
     "data": {
      "text/html": [
       "<div>\n",
       "<style scoped>\n",
       "    .dataframe tbody tr th:only-of-type {\n",
       "        vertical-align: middle;\n",
       "    }\n",
       "\n",
       "    .dataframe tbody tr th {\n",
       "        vertical-align: top;\n",
       "    }\n",
       "\n",
       "    .dataframe thead th {\n",
       "        text-align: right;\n",
       "    }\n",
       "</style>\n",
       "<table border=\"1\" class=\"dataframe\">\n",
       "  <thead>\n",
       "    <tr style=\"text-align: right;\">\n",
       "      <th></th>\n",
       "      <th>count</th>\n",
       "      <th>mean</th>\n",
       "      <th>std</th>\n",
       "      <th>min</th>\n",
       "      <th>25%</th>\n",
       "      <th>50%</th>\n",
       "      <th>75%</th>\n",
       "      <th>max</th>\n",
       "    </tr>\n",
       "  </thead>\n",
       "  <tbody>\n",
       "    <tr>\n",
       "      <th>age</th>\n",
       "      <td>45211.0</td>\n",
       "      <td>40.936210</td>\n",
       "      <td>10.618762</td>\n",
       "      <td>18.0</td>\n",
       "      <td>33.0</td>\n",
       "      <td>39.0</td>\n",
       "      <td>48.0</td>\n",
       "      <td>95.0</td>\n",
       "    </tr>\n",
       "    <tr>\n",
       "      <th>balance</th>\n",
       "      <td>45211.0</td>\n",
       "      <td>1362.272058</td>\n",
       "      <td>3044.765829</td>\n",
       "      <td>-8019.0</td>\n",
       "      <td>72.0</td>\n",
       "      <td>448.0</td>\n",
       "      <td>1428.0</td>\n",
       "      <td>102127.0</td>\n",
       "    </tr>\n",
       "    <tr>\n",
       "      <th>day_of_week</th>\n",
       "      <td>45211.0</td>\n",
       "      <td>15.806419</td>\n",
       "      <td>8.322476</td>\n",
       "      <td>1.0</td>\n",
       "      <td>8.0</td>\n",
       "      <td>16.0</td>\n",
       "      <td>21.0</td>\n",
       "      <td>31.0</td>\n",
       "    </tr>\n",
       "    <tr>\n",
       "      <th>duration</th>\n",
       "      <td>45211.0</td>\n",
       "      <td>258.163080</td>\n",
       "      <td>257.527812</td>\n",
       "      <td>0.0</td>\n",
       "      <td>103.0</td>\n",
       "      <td>180.0</td>\n",
       "      <td>319.0</td>\n",
       "      <td>4918.0</td>\n",
       "    </tr>\n",
       "    <tr>\n",
       "      <th>campaign</th>\n",
       "      <td>45211.0</td>\n",
       "      <td>2.763841</td>\n",
       "      <td>3.098021</td>\n",
       "      <td>1.0</td>\n",
       "      <td>1.0</td>\n",
       "      <td>2.0</td>\n",
       "      <td>3.0</td>\n",
       "      <td>63.0</td>\n",
       "    </tr>\n",
       "    <tr>\n",
       "      <th>pdays</th>\n",
       "      <td>45211.0</td>\n",
       "      <td>40.197828</td>\n",
       "      <td>100.128746</td>\n",
       "      <td>-1.0</td>\n",
       "      <td>-1.0</td>\n",
       "      <td>-1.0</td>\n",
       "      <td>-1.0</td>\n",
       "      <td>871.0</td>\n",
       "    </tr>\n",
       "    <tr>\n",
       "      <th>previous</th>\n",
       "      <td>45211.0</td>\n",
       "      <td>0.580323</td>\n",
       "      <td>2.303441</td>\n",
       "      <td>0.0</td>\n",
       "      <td>0.0</td>\n",
       "      <td>0.0</td>\n",
       "      <td>0.0</td>\n",
       "      <td>275.0</td>\n",
       "    </tr>\n",
       "  </tbody>\n",
       "</table>\n",
       "</div>"
      ],
      "text/plain": [
       "               count         mean          std     min    25%    50%     75%  \\\n",
       "age          45211.0    40.936210    10.618762    18.0   33.0   39.0    48.0   \n",
       "balance      45211.0  1362.272058  3044.765829 -8019.0   72.0  448.0  1428.0   \n",
       "day_of_week  45211.0    15.806419     8.322476     1.0    8.0   16.0    21.0   \n",
       "duration     45211.0   258.163080   257.527812     0.0  103.0  180.0   319.0   \n",
       "campaign     45211.0     2.763841     3.098021     1.0    1.0    2.0     3.0   \n",
       "pdays        45211.0    40.197828   100.128746    -1.0   -1.0   -1.0    -1.0   \n",
       "previous     45211.0     0.580323     2.303441     0.0    0.0    0.0     0.0   \n",
       "\n",
       "                  max  \n",
       "age              95.0  \n",
       "balance      102127.0  \n",
       "day_of_week      31.0  \n",
       "duration       4918.0  \n",
       "campaign         63.0  \n",
       "pdays           871.0  \n",
       "previous        275.0  "
      ]
     },
     "execution_count": 7,
     "metadata": {},
     "output_type": "execute_result"
    }
   ],
   "source": [
    "df.select_dtypes(include=\"int64\").describe().T"
   ]
  },
  {
   "cell_type": "code",
   "execution_count": 8,
   "metadata": {},
   "outputs": [
    {
     "data": {
      "text/html": [
       "<div>\n",
       "<style scoped>\n",
       "    .dataframe tbody tr th:only-of-type {\n",
       "        vertical-align: middle;\n",
       "    }\n",
       "\n",
       "    .dataframe tbody tr th {\n",
       "        vertical-align: top;\n",
       "    }\n",
       "\n",
       "    .dataframe thead th {\n",
       "        text-align: right;\n",
       "    }\n",
       "</style>\n",
       "<table border=\"1\" class=\"dataframe\">\n",
       "  <thead>\n",
       "    <tr style=\"text-align: right;\">\n",
       "      <th></th>\n",
       "      <th>count</th>\n",
       "      <th>unique</th>\n",
       "      <th>top</th>\n",
       "      <th>freq</th>\n",
       "    </tr>\n",
       "  </thead>\n",
       "  <tbody>\n",
       "    <tr>\n",
       "      <th>job</th>\n",
       "      <td>44923</td>\n",
       "      <td>11</td>\n",
       "      <td>blue-collar</td>\n",
       "      <td>9732</td>\n",
       "    </tr>\n",
       "    <tr>\n",
       "      <th>marital</th>\n",
       "      <td>45211</td>\n",
       "      <td>3</td>\n",
       "      <td>married</td>\n",
       "      <td>27214</td>\n",
       "    </tr>\n",
       "    <tr>\n",
       "      <th>education</th>\n",
       "      <td>43354</td>\n",
       "      <td>3</td>\n",
       "      <td>secondary</td>\n",
       "      <td>23202</td>\n",
       "    </tr>\n",
       "    <tr>\n",
       "      <th>default</th>\n",
       "      <td>45211</td>\n",
       "      <td>2</td>\n",
       "      <td>no</td>\n",
       "      <td>44396</td>\n",
       "    </tr>\n",
       "    <tr>\n",
       "      <th>housing</th>\n",
       "      <td>45211</td>\n",
       "      <td>2</td>\n",
       "      <td>yes</td>\n",
       "      <td>25130</td>\n",
       "    </tr>\n",
       "    <tr>\n",
       "      <th>loan</th>\n",
       "      <td>45211</td>\n",
       "      <td>2</td>\n",
       "      <td>no</td>\n",
       "      <td>37967</td>\n",
       "    </tr>\n",
       "    <tr>\n",
       "      <th>contact</th>\n",
       "      <td>32191</td>\n",
       "      <td>2</td>\n",
       "      <td>cellular</td>\n",
       "      <td>29285</td>\n",
       "    </tr>\n",
       "    <tr>\n",
       "      <th>month</th>\n",
       "      <td>45211</td>\n",
       "      <td>12</td>\n",
       "      <td>may</td>\n",
       "      <td>13766</td>\n",
       "    </tr>\n",
       "    <tr>\n",
       "      <th>poutcome</th>\n",
       "      <td>8252</td>\n",
       "      <td>3</td>\n",
       "      <td>failure</td>\n",
       "      <td>4901</td>\n",
       "    </tr>\n",
       "    <tr>\n",
       "      <th>y</th>\n",
       "      <td>45211</td>\n",
       "      <td>2</td>\n",
       "      <td>no</td>\n",
       "      <td>39922</td>\n",
       "    </tr>\n",
       "  </tbody>\n",
       "</table>\n",
       "</div>"
      ],
      "text/plain": [
       "           count unique          top   freq\n",
       "job        44923     11  blue-collar   9732\n",
       "marital    45211      3      married  27214\n",
       "education  43354      3    secondary  23202\n",
       "default    45211      2           no  44396\n",
       "housing    45211      2          yes  25130\n",
       "loan       45211      2           no  37967\n",
       "contact    32191      2     cellular  29285\n",
       "month      45211     12          may  13766\n",
       "poutcome    8252      3      failure   4901\n",
       "y          45211      2           no  39922"
      ]
     },
     "execution_count": 8,
     "metadata": {},
     "output_type": "execute_result"
    }
   ],
   "source": [
    "df.select_dtypes(include='object').describe().T"
   ]
  },
  {
   "cell_type": "markdown",
   "metadata": {
    "id": "DK99OFP2KUss"
   },
   "source": [
    "### Pregunta 1.1\n",
    "\n",
    "Identifique las columnas que presentan _missing values_ e indique el número de _missing values_ que poseen.\n",
    "\n",
    "Impute los valores nulos con el método que estime conveniente, justificando su decisión."
   ]
  },
  {
   "cell_type": "code",
   "execution_count": 9,
   "metadata": {
    "id": "ZWzxbVxUmmhy"
   },
   "outputs": [
    {
     "data": {
      "text/plain": [
       "age                0\n",
       "job              288\n",
       "marital            0\n",
       "education       1857\n",
       "default            0\n",
       "balance            0\n",
       "housing            0\n",
       "loan               0\n",
       "contact        13020\n",
       "day_of_week        0\n",
       "month              0\n",
       "duration           0\n",
       "campaign           0\n",
       "pdays              0\n",
       "previous           0\n",
       "poutcome       36959\n",
       "y                  0\n",
       "dtype: int64"
      ]
     },
     "execution_count": 9,
     "metadata": {},
     "output_type": "execute_result"
    }
   ],
   "source": [
    "df.isnull().sum()"
   ]
  },
  {
   "cell_type": "code",
   "execution_count": 10,
   "metadata": {},
   "outputs": [
    {
     "data": {
      "image/png": "[encoded data removed]",
      "text/plain": [
       "<Figure size 640x480 with 1 Axes>"
      ]
     },
     "metadata": {},
     "output_type": "display_data"
    }
   ],
   "source": [
    "#categorias variables missings\n",
    "import seaborn as sns\n",
    "import matplotlib.pyplot as plt\n",
    "\n",
    "sns.countplot(data=df, y='job', order=df['job'].value_counts().index)\n",
    "plt.title('Distribución de Job')\n",
    "plt.xlabel('Conteo')\n",
    "plt.ylabel('Tipo de Empleo')\n",
    "plt.show()"
   ]
  },
  {
   "cell_type": "code",
   "execution_count": 11,
   "metadata": {},
   "outputs": [
    {
     "data": {
      "image/png": "[encoded data removed]",
      "text/plain": [
       "<Figure size 640x480 with 1 Axes>"
      ]
     },
     "metadata": {},
     "output_type": "display_data"
    }
   ],
   "source": [
    "sns.countplot(data=df, y='education', order=df['education'].value_counts().index)\n",
    "plt.title('Distribución de Education')\n",
    "plt.xlabel('Conteo')\n",
    "plt.ylabel('Categoria de Educacion')\n",
    "plt.show()"
   ]
  },
  {
   "cell_type": "code",
   "execution_count": 12,
   "metadata": {},
   "outputs": [
    {
     "data": {
      "image/png": "[encoded data removed]",
      "text/plain": [
       "<Figure size 640x480 with 1 Axes>"
      ]
     },
     "metadata": {},
     "output_type": "display_data"
    }
   ],
   "source": [
    "sns.countplot(data=df, y='contact', order=df['contact'].value_counts().index)\n",
    "plt.title('Distribución de Contact')\n",
    "plt.xlabel('Conteo')\n",
    "plt.ylabel('Categoria de Contact')\n",
    "plt.show()\n",
    "\n",
    "#los missings parece ser que no hubo contacto"
   ]
  },
  {
   "cell_type": "code",
   "execution_count": 13,
   "metadata": {},
   "outputs": [
    {
     "data": {
      "image/png": "[encoded data removed]",
      "text/plain": [
       "<Figure size 640x480 with 1 Axes>"
      ]
     },
     "metadata": {},
     "output_type": "display_data"
    }
   ],
   "source": [
    "sns.countplot(data=df, y='poutcome', order=df['poutcome'].value_counts().index)\n",
    "plt.title('Distribución de Outcome Campañas Previas')\n",
    "plt.xlabel('Conteo')\n",
    "plt.ylabel('Categoria de Campañas Previas')\n",
    "plt.show()\n",
    "\n",
    "#los missings parece ser que no hubo campaña previa "
   ]
  },
  {
   "cell_type": "code",
   "execution_count": 14,
   "metadata": {},
   "outputs": [
    {
     "data": {
      "text/html": [
       "<div>\n",
       "<style scoped>\n",
       "    .dataframe tbody tr th:only-of-type {\n",
       "        vertical-align: middle;\n",
       "    }\n",
       "\n",
       "    .dataframe tbody tr th {\n",
       "        vertical-align: top;\n",
       "    }\n",
       "\n",
       "    .dataframe thead th {\n",
       "        text-align: right;\n",
       "    }\n",
       "</style>\n",
       "<table border=\"1\" class=\"dataframe\">\n",
       "  <thead>\n",
       "    <tr style=\"text-align: right;\">\n",
       "      <th></th>\n",
       "      <th>age</th>\n",
       "      <th>job</th>\n",
       "      <th>marital</th>\n",
       "      <th>education</th>\n",
       "      <th>default</th>\n",
       "      <th>balance</th>\n",
       "      <th>housing</th>\n",
       "      <th>loan</th>\n",
       "      <th>contact</th>\n",
       "      <th>day_of_week</th>\n",
       "      <th>month</th>\n",
       "      <th>duration</th>\n",
       "      <th>campaign</th>\n",
       "      <th>pdays</th>\n",
       "      <th>previous</th>\n",
       "      <th>poutcome</th>\n",
       "      <th>y</th>\n",
       "    </tr>\n",
       "  </thead>\n",
       "  <tbody>\n",
       "    <tr>\n",
       "      <th>4</th>\n",
       "      <td>33</td>\n",
       "      <td>NaN</td>\n",
       "      <td>single</td>\n",
       "      <td>NaN</td>\n",
       "      <td>no</td>\n",
       "      <td>1</td>\n",
       "      <td>no</td>\n",
       "      <td>no</td>\n",
       "      <td>NaN</td>\n",
       "      <td>5</td>\n",
       "      <td>may</td>\n",
       "      <td>198</td>\n",
       "      <td>1</td>\n",
       "      <td>-1</td>\n",
       "      <td>0</td>\n",
       "      <td>NaN</td>\n",
       "      <td>no</td>\n",
       "    </tr>\n",
       "    <tr>\n",
       "      <th>216</th>\n",
       "      <td>47</td>\n",
       "      <td>NaN</td>\n",
       "      <td>married</td>\n",
       "      <td>NaN</td>\n",
       "      <td>no</td>\n",
       "      <td>28</td>\n",
       "      <td>no</td>\n",
       "      <td>no</td>\n",
       "      <td>NaN</td>\n",
       "      <td>5</td>\n",
       "      <td>may</td>\n",
       "      <td>338</td>\n",
       "      <td>2</td>\n",
       "      <td>-1</td>\n",
       "      <td>0</td>\n",
       "      <td>NaN</td>\n",
       "      <td>no</td>\n",
       "    </tr>\n",
       "    <tr>\n",
       "      <th>354</th>\n",
       "      <td>59</td>\n",
       "      <td>NaN</td>\n",
       "      <td>divorced</td>\n",
       "      <td>NaN</td>\n",
       "      <td>no</td>\n",
       "      <td>27</td>\n",
       "      <td>no</td>\n",
       "      <td>no</td>\n",
       "      <td>NaN</td>\n",
       "      <td>5</td>\n",
       "      <td>may</td>\n",
       "      <td>347</td>\n",
       "      <td>3</td>\n",
       "      <td>-1</td>\n",
       "      <td>0</td>\n",
       "      <td>NaN</td>\n",
       "      <td>no</td>\n",
       "    </tr>\n",
       "    <tr>\n",
       "      <th>876</th>\n",
       "      <td>37</td>\n",
       "      <td>NaN</td>\n",
       "      <td>single</td>\n",
       "      <td>NaN</td>\n",
       "      <td>no</td>\n",
       "      <td>414</td>\n",
       "      <td>yes</td>\n",
       "      <td>no</td>\n",
       "      <td>NaN</td>\n",
       "      <td>7</td>\n",
       "      <td>may</td>\n",
       "      <td>131</td>\n",
       "      <td>1</td>\n",
       "      <td>-1</td>\n",
       "      <td>0</td>\n",
       "      <td>NaN</td>\n",
       "      <td>no</td>\n",
       "    </tr>\n",
       "    <tr>\n",
       "      <th>1072</th>\n",
       "      <td>29</td>\n",
       "      <td>NaN</td>\n",
       "      <td>single</td>\n",
       "      <td>primary</td>\n",
       "      <td>no</td>\n",
       "      <td>50</td>\n",
       "      <td>yes</td>\n",
       "      <td>no</td>\n",
       "      <td>NaN</td>\n",
       "      <td>7</td>\n",
       "      <td>may</td>\n",
       "      <td>50</td>\n",
       "      <td>2</td>\n",
       "      <td>-1</td>\n",
       "      <td>0</td>\n",
       "      <td>NaN</td>\n",
       "      <td>no</td>\n",
       "    </tr>\n",
       "  </tbody>\n",
       "</table>\n",
       "</div>"
      ],
      "text/plain": [
       "      age  job   marital education default  balance housing loan contact  \\\n",
       "4      33  NaN    single       NaN      no        1      no   no     NaN   \n",
       "216    47  NaN   married       NaN      no       28      no   no     NaN   \n",
       "354    59  NaN  divorced       NaN      no       27      no   no     NaN   \n",
       "876    37  NaN    single       NaN      no      414     yes   no     NaN   \n",
       "1072   29  NaN    single   primary      no       50     yes   no     NaN   \n",
       "\n",
       "      day_of_week month  duration  campaign  pdays  previous poutcome   y  \n",
       "4               5   may       198         1     -1         0      NaN  no  \n",
       "216             5   may       338         2     -1         0      NaN  no  \n",
       "354             5   may       347         3     -1         0      NaN  no  \n",
       "876             7   may       131         1     -1         0      NaN  no  \n",
       "1072            7   may        50         2     -1         0      NaN  no  "
      ]
     },
     "execution_count": 14,
     "metadata": {},
     "output_type": "execute_result"
    }
   ],
   "source": [
    "## job: ver si es aleatorio la asignación de missings o no, para ver si se\n",
    "# puede reemplazar con la moda\n",
    "\n",
    "job_missing_df = df[df['job'].isnull()]\n",
    "job_missing_df.head()"
   ]
  },
  {
   "cell_type": "code",
   "execution_count": 15,
   "metadata": {},
   "outputs": [
    {
     "data": {
      "text/html": [
       "<div>\n",
       "<style scoped>\n",
       "    .dataframe tbody tr th:only-of-type {\n",
       "        vertical-align: middle;\n",
       "    }\n",
       "\n",
       "    .dataframe tbody tr th {\n",
       "        vertical-align: top;\n",
       "    }\n",
       "\n",
       "    .dataframe thead th {\n",
       "        text-align: right;\n",
       "    }\n",
       "</style>\n",
       "<table border=\"1\" class=\"dataframe\">\n",
       "  <thead>\n",
       "    <tr style=\"text-align: right;\">\n",
       "      <th></th>\n",
       "      <th>count</th>\n",
       "      <th>mean</th>\n",
       "      <th>std</th>\n",
       "      <th>min</th>\n",
       "      <th>25%</th>\n",
       "      <th>50%</th>\n",
       "      <th>75%</th>\n",
       "      <th>max</th>\n",
       "    </tr>\n",
       "  </thead>\n",
       "  <tbody>\n",
       "    <tr>\n",
       "      <th>age</th>\n",
       "      <td>288.0</td>\n",
       "      <td>47.593750</td>\n",
       "      <td>10.775095</td>\n",
       "      <td>25.0</td>\n",
       "      <td>41.00</td>\n",
       "      <td>47.0</td>\n",
       "      <td>55.00</td>\n",
       "      <td>82.0</td>\n",
       "    </tr>\n",
       "    <tr>\n",
       "      <th>balance</th>\n",
       "      <td>288.0</td>\n",
       "      <td>1772.357639</td>\n",
       "      <td>2970.288559</td>\n",
       "      <td>-295.0</td>\n",
       "      <td>170.75</td>\n",
       "      <td>677.0</td>\n",
       "      <td>2165.50</td>\n",
       "      <td>19706.0</td>\n",
       "    </tr>\n",
       "    <tr>\n",
       "      <th>day_of_week</th>\n",
       "      <td>288.0</td>\n",
       "      <td>14.642361</td>\n",
       "      <td>8.630261</td>\n",
       "      <td>1.0</td>\n",
       "      <td>6.00</td>\n",
       "      <td>14.0</td>\n",
       "      <td>20.25</td>\n",
       "      <td>31.0</td>\n",
       "    </tr>\n",
       "    <tr>\n",
       "      <th>duration</th>\n",
       "      <td>288.0</td>\n",
       "      <td>237.611111</td>\n",
       "      <td>226.115296</td>\n",
       "      <td>8.0</td>\n",
       "      <td>87.75</td>\n",
       "      <td>165.0</td>\n",
       "      <td>311.00</td>\n",
       "      <td>1487.0</td>\n",
       "    </tr>\n",
       "    <tr>\n",
       "      <th>campaign</th>\n",
       "      <td>288.0</td>\n",
       "      <td>3.309028</td>\n",
       "      <td>3.788621</td>\n",
       "      <td>1.0</td>\n",
       "      <td>1.00</td>\n",
       "      <td>2.0</td>\n",
       "      <td>4.00</td>\n",
       "      <td>35.0</td>\n",
       "    </tr>\n",
       "    <tr>\n",
       "      <th>pdays</th>\n",
       "      <td>288.0</td>\n",
       "      <td>20.982639</td>\n",
       "      <td>75.652767</td>\n",
       "      <td>-1.0</td>\n",
       "      <td>-1.00</td>\n",
       "      <td>-1.0</td>\n",
       "      <td>-1.00</td>\n",
       "      <td>683.0</td>\n",
       "    </tr>\n",
       "    <tr>\n",
       "      <th>previous</th>\n",
       "      <td>288.0</td>\n",
       "      <td>0.319444</td>\n",
       "      <td>1.089403</td>\n",
       "      <td>0.0</td>\n",
       "      <td>0.00</td>\n",
       "      <td>0.0</td>\n",
       "      <td>0.00</td>\n",
       "      <td>7.0</td>\n",
       "    </tr>\n",
       "  </tbody>\n",
       "</table>\n",
       "</div>"
      ],
      "text/plain": [
       "             count         mean          std    min     25%    50%      75%  \\\n",
       "age          288.0    47.593750    10.775095   25.0   41.00   47.0    55.00   \n",
       "balance      288.0  1772.357639  2970.288559 -295.0  170.75  677.0  2165.50   \n",
       "day_of_week  288.0    14.642361     8.630261    1.0    6.00   14.0    20.25   \n",
       "duration     288.0   237.611111   226.115296    8.0   87.75  165.0   311.00   \n",
       "campaign     288.0     3.309028     3.788621    1.0    1.00    2.0     4.00   \n",
       "pdays        288.0    20.982639    75.652767   -1.0   -1.00   -1.0    -1.00   \n",
       "previous     288.0     0.319444     1.089403    0.0    0.00    0.0     0.00   \n",
       "\n",
       "                 max  \n",
       "age             82.0  \n",
       "balance      19706.0  \n",
       "day_of_week     31.0  \n",
       "duration      1487.0  \n",
       "campaign        35.0  \n",
       "pdays          683.0  \n",
       "previous         7.0  "
      ]
     },
     "execution_count": 15,
     "metadata": {},
     "output_type": "execute_result"
    }
   ],
   "source": [
    "job_missing_df.select_dtypes(include=['int64']).describe().T"
   ]
  },
  {
   "cell_type": "code",
   "execution_count": 16,
   "metadata": {},
   "outputs": [
    {
     "data": {
      "text/html": [
       "<div>\n",
       "<style scoped>\n",
       "    .dataframe tbody tr th:only-of-type {\n",
       "        vertical-align: middle;\n",
       "    }\n",
       "\n",
       "    .dataframe tbody tr th {\n",
       "        vertical-align: top;\n",
       "    }\n",
       "\n",
       "    .dataframe thead th {\n",
       "        text-align: right;\n",
       "    }\n",
       "</style>\n",
       "<table border=\"1\" class=\"dataframe\">\n",
       "  <thead>\n",
       "    <tr style=\"text-align: right;\">\n",
       "      <th></th>\n",
       "      <th>count</th>\n",
       "      <th>unique</th>\n",
       "      <th>top</th>\n",
       "      <th>freq</th>\n",
       "    </tr>\n",
       "  </thead>\n",
       "  <tbody>\n",
       "    <tr>\n",
       "      <th>job</th>\n",
       "      <td>0</td>\n",
       "      <td>0</td>\n",
       "      <td>NaN</td>\n",
       "      <td>NaN</td>\n",
       "    </tr>\n",
       "    <tr>\n",
       "      <th>marital</th>\n",
       "      <td>288</td>\n",
       "      <td>3</td>\n",
       "      <td>married</td>\n",
       "      <td>203</td>\n",
       "    </tr>\n",
       "    <tr>\n",
       "      <th>education</th>\n",
       "      <td>161</td>\n",
       "      <td>3</td>\n",
       "      <td>secondary</td>\n",
       "      <td>71</td>\n",
       "    </tr>\n",
       "    <tr>\n",
       "      <th>default</th>\n",
       "      <td>288</td>\n",
       "      <td>2</td>\n",
       "      <td>no</td>\n",
       "      <td>286</td>\n",
       "    </tr>\n",
       "    <tr>\n",
       "      <th>housing</th>\n",
       "      <td>288</td>\n",
       "      <td>2</td>\n",
       "      <td>no</td>\n",
       "      <td>262</td>\n",
       "    </tr>\n",
       "    <tr>\n",
       "      <th>loan</th>\n",
       "      <td>288</td>\n",
       "      <td>2</td>\n",
       "      <td>no</td>\n",
       "      <td>284</td>\n",
       "    </tr>\n",
       "    <tr>\n",
       "      <th>contact</th>\n",
       "      <td>177</td>\n",
       "      <td>2</td>\n",
       "      <td>cellular</td>\n",
       "      <td>131</td>\n",
       "    </tr>\n",
       "    <tr>\n",
       "      <th>month</th>\n",
       "      <td>288</td>\n",
       "      <td>12</td>\n",
       "      <td>jun</td>\n",
       "      <td>90</td>\n",
       "    </tr>\n",
       "    <tr>\n",
       "      <th>poutcome</th>\n",
       "      <td>33</td>\n",
       "      <td>3</td>\n",
       "      <td>failure</td>\n",
       "      <td>20</td>\n",
       "    </tr>\n",
       "    <tr>\n",
       "      <th>y</th>\n",
       "      <td>288</td>\n",
       "      <td>2</td>\n",
       "      <td>no</td>\n",
       "      <td>254</td>\n",
       "    </tr>\n",
       "  </tbody>\n",
       "</table>\n",
       "</div>"
      ],
      "text/plain": [
       "          count unique        top freq\n",
       "job           0      0        NaN  NaN\n",
       "marital     288      3    married  203\n",
       "education   161      3  secondary   71\n",
       "default     288      2         no  286\n",
       "housing     288      2         no  262\n",
       "loan        288      2         no  284\n",
       "contact     177      2   cellular  131\n",
       "month       288     12        jun   90\n",
       "poutcome     33      3    failure   20\n",
       "y           288      2         no  254"
      ]
     },
     "execution_count": 16,
     "metadata": {},
     "output_type": "execute_result"
    }
   ],
   "source": [
    "job_missing_df.select_dtypes(include=['object']).describe().T\n"
   ]
  },
  {
   "cell_type": "markdown",
   "metadata": {},
   "source": [
    "pareciera que job no es eteramente random, pues la edad y el balance en euros es mayor en este data set que en la original. Se va a imputar con la moda por mientras y también se hará una columna shadow por si es necesaria saber esta diferencia para después"
   ]
  },
  {
   "cell_type": "code",
   "execution_count": 17,
   "metadata": {},
   "outputs": [],
   "source": [
    "df['job_shadow_indicator'] = df['job'].isnull().astype(int)\n"
   ]
  },
  {
   "cell_type": "code",
   "execution_count": 18,
   "metadata": {},
   "outputs": [],
   "source": [
    "moda_job = df['job'].mode()[0]\n",
    "df['job'] = df['job'].fillna(moda_job)"
   ]
  },
  {
   "cell_type": "code",
   "execution_count": 19,
   "metadata": {},
   "outputs": [
    {
     "data": {
      "text/html": [
       "<div>\n",
       "<style scoped>\n",
       "    .dataframe tbody tr th:only-of-type {\n",
       "        vertical-align: middle;\n",
       "    }\n",
       "\n",
       "    .dataframe tbody tr th {\n",
       "        vertical-align: top;\n",
       "    }\n",
       "\n",
       "    .dataframe thead th {\n",
       "        text-align: right;\n",
       "    }\n",
       "</style>\n",
       "<table border=\"1\" class=\"dataframe\">\n",
       "  <thead>\n",
       "    <tr style=\"text-align: right;\">\n",
       "      <th></th>\n",
       "      <th>age</th>\n",
       "      <th>job</th>\n",
       "      <th>marital</th>\n",
       "      <th>education</th>\n",
       "      <th>default</th>\n",
       "      <th>balance</th>\n",
       "      <th>housing</th>\n",
       "      <th>loan</th>\n",
       "      <th>contact</th>\n",
       "      <th>day_of_week</th>\n",
       "      <th>month</th>\n",
       "      <th>duration</th>\n",
       "      <th>campaign</th>\n",
       "      <th>pdays</th>\n",
       "      <th>previous</th>\n",
       "      <th>poutcome</th>\n",
       "      <th>y</th>\n",
       "      <th>job_shadow_indicator</th>\n",
       "    </tr>\n",
       "  </thead>\n",
       "  <tbody>\n",
       "    <tr>\n",
       "      <th>3</th>\n",
       "      <td>47</td>\n",
       "      <td>blue-collar</td>\n",
       "      <td>married</td>\n",
       "      <td>NaN</td>\n",
       "      <td>no</td>\n",
       "      <td>1506</td>\n",
       "      <td>yes</td>\n",
       "      <td>no</td>\n",
       "      <td>NaN</td>\n",
       "      <td>5</td>\n",
       "      <td>may</td>\n",
       "      <td>92</td>\n",
       "      <td>1</td>\n",
       "      <td>-1</td>\n",
       "      <td>0</td>\n",
       "      <td>NaN</td>\n",
       "      <td>no</td>\n",
       "      <td>0</td>\n",
       "    </tr>\n",
       "    <tr>\n",
       "      <th>4</th>\n",
       "      <td>33</td>\n",
       "      <td>blue-collar</td>\n",
       "      <td>single</td>\n",
       "      <td>NaN</td>\n",
       "      <td>no</td>\n",
       "      <td>1</td>\n",
       "      <td>no</td>\n",
       "      <td>no</td>\n",
       "      <td>NaN</td>\n",
       "      <td>5</td>\n",
       "      <td>may</td>\n",
       "      <td>198</td>\n",
       "      <td>1</td>\n",
       "      <td>-1</td>\n",
       "      <td>0</td>\n",
       "      <td>NaN</td>\n",
       "      <td>no</td>\n",
       "      <td>1</td>\n",
       "    </tr>\n",
       "    <tr>\n",
       "      <th>13</th>\n",
       "      <td>58</td>\n",
       "      <td>technician</td>\n",
       "      <td>married</td>\n",
       "      <td>NaN</td>\n",
       "      <td>no</td>\n",
       "      <td>71</td>\n",
       "      <td>yes</td>\n",
       "      <td>no</td>\n",
       "      <td>NaN</td>\n",
       "      <td>5</td>\n",
       "      <td>may</td>\n",
       "      <td>71</td>\n",
       "      <td>1</td>\n",
       "      <td>-1</td>\n",
       "      <td>0</td>\n",
       "      <td>NaN</td>\n",
       "      <td>no</td>\n",
       "      <td>0</td>\n",
       "    </tr>\n",
       "    <tr>\n",
       "      <th>16</th>\n",
       "      <td>45</td>\n",
       "      <td>admin.</td>\n",
       "      <td>single</td>\n",
       "      <td>NaN</td>\n",
       "      <td>no</td>\n",
       "      <td>13</td>\n",
       "      <td>yes</td>\n",
       "      <td>no</td>\n",
       "      <td>NaN</td>\n",
       "      <td>5</td>\n",
       "      <td>may</td>\n",
       "      <td>98</td>\n",
       "      <td>1</td>\n",
       "      <td>-1</td>\n",
       "      <td>0</td>\n",
       "      <td>NaN</td>\n",
       "      <td>no</td>\n",
       "      <td>0</td>\n",
       "    </tr>\n",
       "    <tr>\n",
       "      <th>42</th>\n",
       "      <td>60</td>\n",
       "      <td>blue-collar</td>\n",
       "      <td>married</td>\n",
       "      <td>NaN</td>\n",
       "      <td>no</td>\n",
       "      <td>104</td>\n",
       "      <td>yes</td>\n",
       "      <td>no</td>\n",
       "      <td>NaN</td>\n",
       "      <td>5</td>\n",
       "      <td>may</td>\n",
       "      <td>22</td>\n",
       "      <td>1</td>\n",
       "      <td>-1</td>\n",
       "      <td>0</td>\n",
       "      <td>NaN</td>\n",
       "      <td>no</td>\n",
       "      <td>0</td>\n",
       "    </tr>\n",
       "  </tbody>\n",
       "</table>\n",
       "</div>"
      ],
      "text/plain": [
       "    age          job  marital education default  balance housing loan contact  \\\n",
       "3    47  blue-collar  married       NaN      no     1506     yes   no     NaN   \n",
       "4    33  blue-collar   single       NaN      no        1      no   no     NaN   \n",
       "13   58   technician  married       NaN      no       71     yes   no     NaN   \n",
       "16   45       admin.   single       NaN      no       13     yes   no     NaN   \n",
       "42   60  blue-collar  married       NaN      no      104     yes   no     NaN   \n",
       "\n",
       "    day_of_week month  duration  campaign  pdays  previous poutcome   y  \\\n",
       "3             5   may        92         1     -1         0      NaN  no   \n",
       "4             5   may       198         1     -1         0      NaN  no   \n",
       "13            5   may        71         1     -1         0      NaN  no   \n",
       "16            5   may        98         1     -1         0      NaN  no   \n",
       "42            5   may        22         1     -1         0      NaN  no   \n",
       "\n",
       "    job_shadow_indicator  \n",
       "3                      0  \n",
       "4                      1  \n",
       "13                     0  \n",
       "16                     0  \n",
       "42                     0  "
      ]
     },
     "execution_count": 19,
     "metadata": {},
     "output_type": "execute_result"
    }
   ],
   "source": [
    "## education tiene solo 3 categorias y la mayoría es secundary (casi la mitad)\n",
    "education_missing_df = df[df['education'].isnull()]\n",
    "education_missing_df.head()"
   ]
  },
  {
   "cell_type": "code",
   "execution_count": 20,
   "metadata": {},
   "outputs": [
    {
     "data": {
      "text/html": [
       "<div>\n",
       "<style scoped>\n",
       "    .dataframe tbody tr th:only-of-type {\n",
       "        vertical-align: middle;\n",
       "    }\n",
       "\n",
       "    .dataframe tbody tr th {\n",
       "        vertical-align: top;\n",
       "    }\n",
       "\n",
       "    .dataframe thead th {\n",
       "        text-align: right;\n",
       "    }\n",
       "</style>\n",
       "<table border=\"1\" class=\"dataframe\">\n",
       "  <thead>\n",
       "    <tr style=\"text-align: right;\">\n",
       "      <th></th>\n",
       "      <th>count</th>\n",
       "      <th>mean</th>\n",
       "      <th>std</th>\n",
       "      <th>min</th>\n",
       "      <th>25%</th>\n",
       "      <th>50%</th>\n",
       "      <th>75%</th>\n",
       "      <th>max</th>\n",
       "    </tr>\n",
       "  </thead>\n",
       "  <tbody>\n",
       "    <tr>\n",
       "      <th>age</th>\n",
       "      <td>1857.0</td>\n",
       "      <td>44.510501</td>\n",
       "      <td>12.196400</td>\n",
       "      <td>18.0</td>\n",
       "      <td>36.0</td>\n",
       "      <td>45.0</td>\n",
       "      <td>53.0</td>\n",
       "      <td>93.0</td>\n",
       "    </tr>\n",
       "    <tr>\n",
       "      <th>balance</th>\n",
       "      <td>1857.0</td>\n",
       "      <td>1526.754443</td>\n",
       "      <td>3152.228273</td>\n",
       "      <td>-1445.0</td>\n",
       "      <td>106.0</td>\n",
       "      <td>568.0</td>\n",
       "      <td>1699.0</td>\n",
       "      <td>64343.0</td>\n",
       "    </tr>\n",
       "    <tr>\n",
       "      <th>day_of_week</th>\n",
       "      <td>1857.0</td>\n",
       "      <td>15.810985</td>\n",
       "      <td>8.689590</td>\n",
       "      <td>1.0</td>\n",
       "      <td>8.0</td>\n",
       "      <td>16.0</td>\n",
       "      <td>22.0</td>\n",
       "      <td>31.0</td>\n",
       "    </tr>\n",
       "    <tr>\n",
       "      <th>duration</th>\n",
       "      <td>1857.0</td>\n",
       "      <td>257.313947</td>\n",
       "      <td>245.622775</td>\n",
       "      <td>4.0</td>\n",
       "      <td>99.0</td>\n",
       "      <td>180.0</td>\n",
       "      <td>332.0</td>\n",
       "      <td>2429.0</td>\n",
       "    </tr>\n",
       "    <tr>\n",
       "      <th>campaign</th>\n",
       "      <td>1857.0</td>\n",
       "      <td>2.849219</td>\n",
       "      <td>3.778611</td>\n",
       "      <td>1.0</td>\n",
       "      <td>1.0</td>\n",
       "      <td>2.0</td>\n",
       "      <td>3.0</td>\n",
       "      <td>63.0</td>\n",
       "    </tr>\n",
       "    <tr>\n",
       "      <th>pdays</th>\n",
       "      <td>1857.0</td>\n",
       "      <td>36.856220</td>\n",
       "      <td>95.226077</td>\n",
       "      <td>-1.0</td>\n",
       "      <td>-1.0</td>\n",
       "      <td>-1.0</td>\n",
       "      <td>-1.0</td>\n",
       "      <td>687.0</td>\n",
       "    </tr>\n",
       "    <tr>\n",
       "      <th>previous</th>\n",
       "      <td>1857.0</td>\n",
       "      <td>0.488422</td>\n",
       "      <td>1.569167</td>\n",
       "      <td>0.0</td>\n",
       "      <td>0.0</td>\n",
       "      <td>0.0</td>\n",
       "      <td>0.0</td>\n",
       "      <td>27.0</td>\n",
       "    </tr>\n",
       "    <tr>\n",
       "      <th>job_shadow_indicator</th>\n",
       "      <td>1857.0</td>\n",
       "      <td>0.068390</td>\n",
       "      <td>0.252482</td>\n",
       "      <td>0.0</td>\n",
       "      <td>0.0</td>\n",
       "      <td>0.0</td>\n",
       "      <td>0.0</td>\n",
       "      <td>1.0</td>\n",
       "    </tr>\n",
       "  </tbody>\n",
       "</table>\n",
       "</div>"
      ],
      "text/plain": [
       "                       count         mean          std     min    25%    50%  \\\n",
       "age                   1857.0    44.510501    12.196400    18.0   36.0   45.0   \n",
       "balance               1857.0  1526.754443  3152.228273 -1445.0  106.0  568.0   \n",
       "day_of_week           1857.0    15.810985     8.689590     1.0    8.0   16.0   \n",
       "duration              1857.0   257.313947   245.622775     4.0   99.0  180.0   \n",
       "campaign              1857.0     2.849219     3.778611     1.0    1.0    2.0   \n",
       "pdays                 1857.0    36.856220    95.226077    -1.0   -1.0   -1.0   \n",
       "previous              1857.0     0.488422     1.569167     0.0    0.0    0.0   \n",
       "job_shadow_indicator  1857.0     0.068390     0.252482     0.0    0.0    0.0   \n",
       "\n",
       "                         75%      max  \n",
       "age                     53.0     93.0  \n",
       "balance               1699.0  64343.0  \n",
       "day_of_week             22.0     31.0  \n",
       "duration               332.0   2429.0  \n",
       "campaign                 3.0     63.0  \n",
       "pdays                   -1.0    687.0  \n",
       "previous                 0.0     27.0  \n",
       "job_shadow_indicator     0.0      1.0  "
      ]
     },
     "execution_count": 20,
     "metadata": {},
     "output_type": "execute_result"
    }
   ],
   "source": [
    "education_missing_df.select_dtypes(include=['int64']).describe().T"
   ]
  },
  {
   "cell_type": "code",
   "execution_count": 21,
   "metadata": {},
   "outputs": [
    {
     "data": {
      "text/html": [
       "<div>\n",
       "<style scoped>\n",
       "    .dataframe tbody tr th:only-of-type {\n",
       "        vertical-align: middle;\n",
       "    }\n",
       "\n",
       "    .dataframe tbody tr th {\n",
       "        vertical-align: top;\n",
       "    }\n",
       "\n",
       "    .dataframe thead th {\n",
       "        text-align: right;\n",
       "    }\n",
       "</style>\n",
       "<table border=\"1\" class=\"dataframe\">\n",
       "  <thead>\n",
       "    <tr style=\"text-align: right;\">\n",
       "      <th></th>\n",
       "      <th>count</th>\n",
       "      <th>unique</th>\n",
       "      <th>top</th>\n",
       "      <th>freq</th>\n",
       "    </tr>\n",
       "  </thead>\n",
       "  <tbody>\n",
       "    <tr>\n",
       "      <th>job</th>\n",
       "      <td>1857</td>\n",
       "      <td>11</td>\n",
       "      <td>blue-collar</td>\n",
       "      <td>581</td>\n",
       "    </tr>\n",
       "    <tr>\n",
       "      <th>marital</th>\n",
       "      <td>1857</td>\n",
       "      <td>3</td>\n",
       "      <td>married</td>\n",
       "      <td>1160</td>\n",
       "    </tr>\n",
       "    <tr>\n",
       "      <th>education</th>\n",
       "      <td>0</td>\n",
       "      <td>0</td>\n",
       "      <td>NaN</td>\n",
       "      <td>NaN</td>\n",
       "    </tr>\n",
       "    <tr>\n",
       "      <th>default</th>\n",
       "      <td>1857</td>\n",
       "      <td>2</td>\n",
       "      <td>no</td>\n",
       "      <td>1825</td>\n",
       "    </tr>\n",
       "    <tr>\n",
       "      <th>housing</th>\n",
       "      <td>1857</td>\n",
       "      <td>2</td>\n",
       "      <td>no</td>\n",
       "      <td>1037</td>\n",
       "    </tr>\n",
       "    <tr>\n",
       "      <th>loan</th>\n",
       "      <td>1857</td>\n",
       "      <td>2</td>\n",
       "      <td>no</td>\n",
       "      <td>1724</td>\n",
       "    </tr>\n",
       "    <tr>\n",
       "      <th>contact</th>\n",
       "      <td>1180</td>\n",
       "      <td>2</td>\n",
       "      <td>cellular</td>\n",
       "      <td>990</td>\n",
       "    </tr>\n",
       "    <tr>\n",
       "      <th>month</th>\n",
       "      <td>1857</td>\n",
       "      <td>12</td>\n",
       "      <td>may</td>\n",
       "      <td>556</td>\n",
       "    </tr>\n",
       "    <tr>\n",
       "      <th>poutcome</th>\n",
       "      <td>323</td>\n",
       "      <td>3</td>\n",
       "      <td>failure</td>\n",
       "      <td>177</td>\n",
       "    </tr>\n",
       "    <tr>\n",
       "      <th>y</th>\n",
       "      <td>1857</td>\n",
       "      <td>2</td>\n",
       "      <td>no</td>\n",
       "      <td>1605</td>\n",
       "    </tr>\n",
       "  </tbody>\n",
       "</table>\n",
       "</div>"
      ],
      "text/plain": [
       "          count unique          top  freq\n",
       "job        1857     11  blue-collar   581\n",
       "marital    1857      3      married  1160\n",
       "education     0      0          NaN   NaN\n",
       "default    1857      2           no  1825\n",
       "housing    1857      2           no  1037\n",
       "loan       1857      2           no  1724\n",
       "contact    1180      2     cellular   990\n",
       "month      1857     12          may   556\n",
       "poutcome    323      3      failure   177\n",
       "y          1857      2           no  1605"
      ]
     },
     "execution_count": 21,
     "metadata": {},
     "output_type": "execute_result"
    }
   ],
   "source": [
    "education_missing_df.select_dtypes(include=['object']).describe().T"
   ]
  },
  {
   "cell_type": "markdown",
   "metadata": {},
   "source": [
    "Al igual que job pareciera que no es eteramente random, pues la edad y el balance en euros es mayor en este data set que en la original. Se va a imputar con la moda por mientras y también se hará una columna shadow por si es necesaria saber esta diferencia para después"
   ]
  },
  {
   "cell_type": "code",
   "execution_count": 22,
   "metadata": {},
   "outputs": [],
   "source": [
    "df['education_shadow_indicator'] = df['education'].isnull().astype(int)"
   ]
  },
  {
   "cell_type": "code",
   "execution_count": 23,
   "metadata": {},
   "outputs": [],
   "source": [
    "moda_education = df['education'].mode()[0]\n",
    "df['education'] = df['education'].fillna(moda_education)"
   ]
  },
  {
   "cell_type": "code",
   "execution_count": 24,
   "metadata": {},
   "outputs": [
    {
     "data": {
      "text/html": [
       "<div>\n",
       "<style scoped>\n",
       "    .dataframe tbody tr th:only-of-type {\n",
       "        vertical-align: middle;\n",
       "    }\n",
       "\n",
       "    .dataframe tbody tr th {\n",
       "        vertical-align: top;\n",
       "    }\n",
       "\n",
       "    .dataframe thead th {\n",
       "        text-align: right;\n",
       "    }\n",
       "</style>\n",
       "<table border=\"1\" class=\"dataframe\">\n",
       "  <thead>\n",
       "    <tr style=\"text-align: right;\">\n",
       "      <th></th>\n",
       "      <th>age</th>\n",
       "      <th>job</th>\n",
       "      <th>marital</th>\n",
       "      <th>education</th>\n",
       "      <th>default</th>\n",
       "      <th>balance</th>\n",
       "      <th>housing</th>\n",
       "      <th>loan</th>\n",
       "      <th>contact</th>\n",
       "      <th>day_of_week</th>\n",
       "      <th>month</th>\n",
       "      <th>duration</th>\n",
       "      <th>campaign</th>\n",
       "      <th>pdays</th>\n",
       "      <th>previous</th>\n",
       "      <th>poutcome</th>\n",
       "      <th>y</th>\n",
       "      <th>job_shadow_indicator</th>\n",
       "      <th>education_shadow_indicator</th>\n",
       "    </tr>\n",
       "  </thead>\n",
       "  <tbody>\n",
       "    <tr>\n",
       "      <th>0</th>\n",
       "      <td>58</td>\n",
       "      <td>management</td>\n",
       "      <td>married</td>\n",
       "      <td>tertiary</td>\n",
       "      <td>no</td>\n",
       "      <td>2143</td>\n",
       "      <td>yes</td>\n",
       "      <td>no</td>\n",
       "      <td>NaN</td>\n",
       "      <td>5</td>\n",
       "      <td>may</td>\n",
       "      <td>261</td>\n",
       "      <td>1</td>\n",
       "      <td>-1</td>\n",
       "      <td>0</td>\n",
       "      <td>NaN</td>\n",
       "      <td>no</td>\n",
       "      <td>0</td>\n",
       "      <td>0</td>\n",
       "    </tr>\n",
       "    <tr>\n",
       "      <th>1</th>\n",
       "      <td>44</td>\n",
       "      <td>technician</td>\n",
       "      <td>single</td>\n",
       "      <td>secondary</td>\n",
       "      <td>no</td>\n",
       "      <td>29</td>\n",
       "      <td>yes</td>\n",
       "      <td>no</td>\n",
       "      <td>NaN</td>\n",
       "      <td>5</td>\n",
       "      <td>may</td>\n",
       "      <td>151</td>\n",
       "      <td>1</td>\n",
       "      <td>-1</td>\n",
       "      <td>0</td>\n",
       "      <td>NaN</td>\n",
       "      <td>no</td>\n",
       "      <td>0</td>\n",
       "      <td>0</td>\n",
       "    </tr>\n",
       "    <tr>\n",
       "      <th>2</th>\n",
       "      <td>33</td>\n",
       "      <td>entrepreneur</td>\n",
       "      <td>married</td>\n",
       "      <td>secondary</td>\n",
       "      <td>no</td>\n",
       "      <td>2</td>\n",
       "      <td>yes</td>\n",
       "      <td>yes</td>\n",
       "      <td>NaN</td>\n",
       "      <td>5</td>\n",
       "      <td>may</td>\n",
       "      <td>76</td>\n",
       "      <td>1</td>\n",
       "      <td>-1</td>\n",
       "      <td>0</td>\n",
       "      <td>NaN</td>\n",
       "      <td>no</td>\n",
       "      <td>0</td>\n",
       "      <td>0</td>\n",
       "    </tr>\n",
       "    <tr>\n",
       "      <th>3</th>\n",
       "      <td>47</td>\n",
       "      <td>blue-collar</td>\n",
       "      <td>married</td>\n",
       "      <td>secondary</td>\n",
       "      <td>no</td>\n",
       "      <td>1506</td>\n",
       "      <td>yes</td>\n",
       "      <td>no</td>\n",
       "      <td>NaN</td>\n",
       "      <td>5</td>\n",
       "      <td>may</td>\n",
       "      <td>92</td>\n",
       "      <td>1</td>\n",
       "      <td>-1</td>\n",
       "      <td>0</td>\n",
       "      <td>NaN</td>\n",
       "      <td>no</td>\n",
       "      <td>0</td>\n",
       "      <td>1</td>\n",
       "    </tr>\n",
       "    <tr>\n",
       "      <th>4</th>\n",
       "      <td>33</td>\n",
       "      <td>blue-collar</td>\n",
       "      <td>single</td>\n",
       "      <td>secondary</td>\n",
       "      <td>no</td>\n",
       "      <td>1</td>\n",
       "      <td>no</td>\n",
       "      <td>no</td>\n",
       "      <td>NaN</td>\n",
       "      <td>5</td>\n",
       "      <td>may</td>\n",
       "      <td>198</td>\n",
       "      <td>1</td>\n",
       "      <td>-1</td>\n",
       "      <td>0</td>\n",
       "      <td>NaN</td>\n",
       "      <td>no</td>\n",
       "      <td>1</td>\n",
       "      <td>1</td>\n",
       "    </tr>\n",
       "  </tbody>\n",
       "</table>\n",
       "</div>"
      ],
      "text/plain": [
       "   age           job  marital  education default  balance housing loan  \\\n",
       "0   58    management  married   tertiary      no     2143     yes   no   \n",
       "1   44    technician   single  secondary      no       29     yes   no   \n",
       "2   33  entrepreneur  married  secondary      no        2     yes  yes   \n",
       "3   47   blue-collar  married  secondary      no     1506     yes   no   \n",
       "4   33   blue-collar   single  secondary      no        1      no   no   \n",
       "\n",
       "  contact  day_of_week month  duration  campaign  pdays  previous poutcome  \\\n",
       "0     NaN            5   may       261         1     -1         0      NaN   \n",
       "1     NaN            5   may       151         1     -1         0      NaN   \n",
       "2     NaN            5   may        76         1     -1         0      NaN   \n",
       "3     NaN            5   may        92         1     -1         0      NaN   \n",
       "4     NaN            5   may       198         1     -1         0      NaN   \n",
       "\n",
       "    y  job_shadow_indicator  education_shadow_indicator  \n",
       "0  no                     0                           0  \n",
       "1  no                     0                           0  \n",
       "2  no                     0                           0  \n",
       "3  no                     0                           1  \n",
       "4  no                     1                           1  "
      ]
     },
     "execution_count": 24,
     "metadata": {},
     "output_type": "execute_result"
    }
   ],
   "source": [
    "#contact tiene hartos missings (casi 30% del dataset). En el histograma se\n",
    "#vio que tal vez es porque no hubo contacto \n",
    "\n",
    "contact_missing_df = df[df['contact'].isnull()]\n",
    "contact_missing_df.head()"
   ]
  },
  {
   "cell_type": "code",
   "execution_count": 25,
   "metadata": {},
   "outputs": [
    {
     "data": {
      "text/html": [
       "<div>\n",
       "<style scoped>\n",
       "    .dataframe tbody tr th:only-of-type {\n",
       "        vertical-align: middle;\n",
       "    }\n",
       "\n",
       "    .dataframe tbody tr th {\n",
       "        vertical-align: top;\n",
       "    }\n",
       "\n",
       "    .dataframe thead th {\n",
       "        text-align: right;\n",
       "    }\n",
       "</style>\n",
       "<table border=\"1\" class=\"dataframe\">\n",
       "  <thead>\n",
       "    <tr style=\"text-align: right;\">\n",
       "      <th></th>\n",
       "      <th>count</th>\n",
       "      <th>mean</th>\n",
       "      <th>std</th>\n",
       "      <th>min</th>\n",
       "      <th>25%</th>\n",
       "      <th>50%</th>\n",
       "      <th>75%</th>\n",
       "      <th>max</th>\n",
       "    </tr>\n",
       "  </thead>\n",
       "  <tbody>\n",
       "    <tr>\n",
       "      <th>age</th>\n",
       "      <td>13020.0</td>\n",
       "      <td>40.600077</td>\n",
       "      <td>9.439221</td>\n",
       "      <td>20.0</td>\n",
       "      <td>33.0</td>\n",
       "      <td>39.0</td>\n",
       "      <td>48.00</td>\n",
       "      <td>61.0</td>\n",
       "    </tr>\n",
       "    <tr>\n",
       "      <th>balance</th>\n",
       "      <td>13020.0</td>\n",
       "      <td>1183.550384</td>\n",
       "      <td>2638.647690</td>\n",
       "      <td>-3372.0</td>\n",
       "      <td>50.0</td>\n",
       "      <td>389.0</td>\n",
       "      <td>1255.25</td>\n",
       "      <td>58544.0</td>\n",
       "    </tr>\n",
       "    <tr>\n",
       "      <th>day_of_week</th>\n",
       "      <td>13020.0</td>\n",
       "      <td>15.360138</td>\n",
       "      <td>8.454077</td>\n",
       "      <td>1.0</td>\n",
       "      <td>8.0</td>\n",
       "      <td>15.0</td>\n",
       "      <td>21.00</td>\n",
       "      <td>31.0</td>\n",
       "    </tr>\n",
       "    <tr>\n",
       "      <th>duration</th>\n",
       "      <td>13020.0</td>\n",
       "      <td>252.340476</td>\n",
       "      <td>258.405545</td>\n",
       "      <td>0.0</td>\n",
       "      <td>101.0</td>\n",
       "      <td>178.0</td>\n",
       "      <td>311.00</td>\n",
       "      <td>3881.0</td>\n",
       "    </tr>\n",
       "    <tr>\n",
       "      <th>campaign</th>\n",
       "      <td>13020.0</td>\n",
       "      <td>2.787481</td>\n",
       "      <td>3.371954</td>\n",
       "      <td>1.0</td>\n",
       "      <td>1.0</td>\n",
       "      <td>2.0</td>\n",
       "      <td>3.00</td>\n",
       "      <td>63.0</td>\n",
       "    </tr>\n",
       "    <tr>\n",
       "      <th>pdays</th>\n",
       "      <td>13020.0</td>\n",
       "      <td>1.299386</td>\n",
       "      <td>36.451647</td>\n",
       "      <td>-1.0</td>\n",
       "      <td>-1.0</td>\n",
       "      <td>-1.0</td>\n",
       "      <td>-1.00</td>\n",
       "      <td>850.0</td>\n",
       "    </tr>\n",
       "    <tr>\n",
       "      <th>previous</th>\n",
       "      <td>13020.0</td>\n",
       "      <td>0.021966</td>\n",
       "      <td>0.502526</td>\n",
       "      <td>0.0</td>\n",
       "      <td>0.0</td>\n",
       "      <td>0.0</td>\n",
       "      <td>0.00</td>\n",
       "      <td>41.0</td>\n",
       "    </tr>\n",
       "    <tr>\n",
       "      <th>job_shadow_indicator</th>\n",
       "      <td>13020.0</td>\n",
       "      <td>0.008525</td>\n",
       "      <td>0.091942</td>\n",
       "      <td>0.0</td>\n",
       "      <td>0.0</td>\n",
       "      <td>0.0</td>\n",
       "      <td>0.00</td>\n",
       "      <td>1.0</td>\n",
       "    </tr>\n",
       "    <tr>\n",
       "      <th>education_shadow_indicator</th>\n",
       "      <td>13020.0</td>\n",
       "      <td>0.051997</td>\n",
       "      <td>0.222029</td>\n",
       "      <td>0.0</td>\n",
       "      <td>0.0</td>\n",
       "      <td>0.0</td>\n",
       "      <td>0.00</td>\n",
       "      <td>1.0</td>\n",
       "    </tr>\n",
       "  </tbody>\n",
       "</table>\n",
       "</div>"
      ],
      "text/plain": [
       "                              count         mean          std     min    25%  \\\n",
       "age                         13020.0    40.600077     9.439221    20.0   33.0   \n",
       "balance                     13020.0  1183.550384  2638.647690 -3372.0   50.0   \n",
       "day_of_week                 13020.0    15.360138     8.454077     1.0    8.0   \n",
       "duration                    13020.0   252.340476   258.405545     0.0  101.0   \n",
       "campaign                    13020.0     2.787481     3.371954     1.0    1.0   \n",
       "pdays                       13020.0     1.299386    36.451647    -1.0   -1.0   \n",
       "previous                    13020.0     0.021966     0.502526     0.0    0.0   \n",
       "job_shadow_indicator        13020.0     0.008525     0.091942     0.0    0.0   \n",
       "education_shadow_indicator  13020.0     0.051997     0.222029     0.0    0.0   \n",
       "\n",
       "                              50%      75%      max  \n",
       "age                          39.0    48.00     61.0  \n",
       "balance                     389.0  1255.25  58544.0  \n",
       "day_of_week                  15.0    21.00     31.0  \n",
       "duration                    178.0   311.00   3881.0  \n",
       "campaign                      2.0     3.00     63.0  \n",
       "pdays                        -1.0    -1.00    850.0  \n",
       "previous                      0.0     0.00     41.0  \n",
       "job_shadow_indicator          0.0     0.00      1.0  \n",
       "education_shadow_indicator    0.0     0.00      1.0  "
      ]
     },
     "execution_count": 25,
     "metadata": {},
     "output_type": "execute_result"
    }
   ],
   "source": [
    "contact_missing_df.select_dtypes(include=['int64']).describe().T\n",
    "\n",
    "#cambia demasiado pdays"
   ]
  },
  {
   "cell_type": "code",
   "execution_count": 26,
   "metadata": {},
   "outputs": [
    {
     "data": {
      "text/html": [
       "<div>\n",
       "<style scoped>\n",
       "    .dataframe tbody tr th:only-of-type {\n",
       "        vertical-align: middle;\n",
       "    }\n",
       "\n",
       "    .dataframe tbody tr th {\n",
       "        vertical-align: top;\n",
       "    }\n",
       "\n",
       "    .dataframe thead th {\n",
       "        text-align: right;\n",
       "    }\n",
       "</style>\n",
       "<table border=\"1\" class=\"dataframe\">\n",
       "  <thead>\n",
       "    <tr style=\"text-align: right;\">\n",
       "      <th></th>\n",
       "      <th>count</th>\n",
       "      <th>unique</th>\n",
       "      <th>top</th>\n",
       "      <th>freq</th>\n",
       "    </tr>\n",
       "  </thead>\n",
       "  <tbody>\n",
       "    <tr>\n",
       "      <th>job</th>\n",
       "      <td>13020</td>\n",
       "      <td>11</td>\n",
       "      <td>blue-collar</td>\n",
       "      <td>4076</td>\n",
       "    </tr>\n",
       "    <tr>\n",
       "      <th>marital</th>\n",
       "      <td>13020</td>\n",
       "      <td>3</td>\n",
       "      <td>married</td>\n",
       "      <td>8031</td>\n",
       "    </tr>\n",
       "    <tr>\n",
       "      <th>education</th>\n",
       "      <td>13020</td>\n",
       "      <td>3</td>\n",
       "      <td>secondary</td>\n",
       "      <td>7826</td>\n",
       "    </tr>\n",
       "    <tr>\n",
       "      <th>default</th>\n",
       "      <td>13020</td>\n",
       "      <td>2</td>\n",
       "      <td>no</td>\n",
       "      <td>12731</td>\n",
       "    </tr>\n",
       "    <tr>\n",
       "      <th>housing</th>\n",
       "      <td>13020</td>\n",
       "      <td>2</td>\n",
       "      <td>yes</td>\n",
       "      <td>9357</td>\n",
       "    </tr>\n",
       "    <tr>\n",
       "      <th>loan</th>\n",
       "      <td>13020</td>\n",
       "      <td>2</td>\n",
       "      <td>no</td>\n",
       "      <td>10988</td>\n",
       "    </tr>\n",
       "    <tr>\n",
       "      <th>contact</th>\n",
       "      <td>0</td>\n",
       "      <td>0</td>\n",
       "      <td>NaN</td>\n",
       "      <td>NaN</td>\n",
       "    </tr>\n",
       "    <tr>\n",
       "      <th>month</th>\n",
       "      <td>13020</td>\n",
       "      <td>12</td>\n",
       "      <td>may</td>\n",
       "      <td>7975</td>\n",
       "    </tr>\n",
       "    <tr>\n",
       "      <th>poutcome</th>\n",
       "      <td>70</td>\n",
       "      <td>3</td>\n",
       "      <td>failure</td>\n",
       "      <td>31</td>\n",
       "    </tr>\n",
       "    <tr>\n",
       "      <th>y</th>\n",
       "      <td>13020</td>\n",
       "      <td>2</td>\n",
       "      <td>no</td>\n",
       "      <td>12490</td>\n",
       "    </tr>\n",
       "  </tbody>\n",
       "</table>\n",
       "</div>"
      ],
      "text/plain": [
       "           count unique          top   freq\n",
       "job        13020     11  blue-collar   4076\n",
       "marital    13020      3      married   8031\n",
       "education  13020      3    secondary   7826\n",
       "default    13020      2           no  12731\n",
       "housing    13020      2          yes   9357\n",
       "loan       13020      2           no  10988\n",
       "contact        0      0          NaN    NaN\n",
       "month      13020     12          may   7975\n",
       "poutcome      70      3      failure     31\n",
       "y          13020      2           no  12490"
      ]
     },
     "execution_count": 26,
     "metadata": {},
     "output_type": "execute_result"
    }
   ],
   "source": [
    "contact_missing_df.select_dtypes(include=['object']).describe().T"
   ]
  },
  {
   "cell_type": "markdown",
   "metadata": {},
   "source": [
    "Se mantiene la idea que contact missing es que no se pudo contactar, bastante parecida el dataset en variables de edad y balance pero aparece mucho pdays -1 (no hubo contacto previo). Se va a imputar con \"no contact info\" por mientras y también se hará una columna shadow por si es necesaria saber esta diferencia para después"
   ]
  },
  {
   "cell_type": "code",
   "execution_count": 27,
   "metadata": {},
   "outputs": [],
   "source": [
    "df['contact_shadow_indicator'] = df['contact'].isnull().astype(int)"
   ]
  },
  {
   "cell_type": "code",
   "execution_count": 28,
   "metadata": {},
   "outputs": [],
   "source": [
    "df['contact'] = df['contact'].fillna('no_contact_info') "
   ]
  },
  {
   "cell_type": "code",
   "execution_count": 29,
   "metadata": {},
   "outputs": [
    {
     "data": {
      "text/html": [
       "<div>\n",
       "<style scoped>\n",
       "    .dataframe tbody tr th:only-of-type {\n",
       "        vertical-align: middle;\n",
       "    }\n",
       "\n",
       "    .dataframe tbody tr th {\n",
       "        vertical-align: top;\n",
       "    }\n",
       "\n",
       "    .dataframe thead th {\n",
       "        text-align: right;\n",
       "    }\n",
       "</style>\n",
       "<table border=\"1\" class=\"dataframe\">\n",
       "  <thead>\n",
       "    <tr style=\"text-align: right;\">\n",
       "      <th></th>\n",
       "      <th>age</th>\n",
       "      <th>job</th>\n",
       "      <th>marital</th>\n",
       "      <th>education</th>\n",
       "      <th>default</th>\n",
       "      <th>balance</th>\n",
       "      <th>housing</th>\n",
       "      <th>loan</th>\n",
       "      <th>contact</th>\n",
       "      <th>day_of_week</th>\n",
       "      <th>month</th>\n",
       "      <th>duration</th>\n",
       "      <th>campaign</th>\n",
       "      <th>pdays</th>\n",
       "      <th>previous</th>\n",
       "      <th>poutcome</th>\n",
       "      <th>y</th>\n",
       "      <th>job_shadow_indicator</th>\n",
       "      <th>education_shadow_indicator</th>\n",
       "      <th>contact_shadow_indicator</th>\n",
       "    </tr>\n",
       "  </thead>\n",
       "  <tbody>\n",
       "    <tr>\n",
       "      <th>0</th>\n",
       "      <td>58</td>\n",
       "      <td>management</td>\n",
       "      <td>married</td>\n",
       "      <td>tertiary</td>\n",
       "      <td>no</td>\n",
       "      <td>2143</td>\n",
       "      <td>yes</td>\n",
       "      <td>no</td>\n",
       "      <td>no_contact_info</td>\n",
       "      <td>5</td>\n",
       "      <td>may</td>\n",
       "      <td>261</td>\n",
       "      <td>1</td>\n",
       "      <td>-1</td>\n",
       "      <td>0</td>\n",
       "      <td>NaN</td>\n",
       "      <td>no</td>\n",
       "      <td>0</td>\n",
       "      <td>0</td>\n",
       "      <td>1</td>\n",
       "    </tr>\n",
       "    <tr>\n",
       "      <th>1</th>\n",
       "      <td>44</td>\n",
       "      <td>technician</td>\n",
       "      <td>single</td>\n",
       "      <td>secondary</td>\n",
       "      <td>no</td>\n",
       "      <td>29</td>\n",
       "      <td>yes</td>\n",
       "      <td>no</td>\n",
       "      <td>no_contact_info</td>\n",
       "      <td>5</td>\n",
       "      <td>may</td>\n",
       "      <td>151</td>\n",
       "      <td>1</td>\n",
       "      <td>-1</td>\n",
       "      <td>0</td>\n",
       "      <td>NaN</td>\n",
       "      <td>no</td>\n",
       "      <td>0</td>\n",
       "      <td>0</td>\n",
       "      <td>1</td>\n",
       "    </tr>\n",
       "    <tr>\n",
       "      <th>2</th>\n",
       "      <td>33</td>\n",
       "      <td>entrepreneur</td>\n",
       "      <td>married</td>\n",
       "      <td>secondary</td>\n",
       "      <td>no</td>\n",
       "      <td>2</td>\n",
       "      <td>yes</td>\n",
       "      <td>yes</td>\n",
       "      <td>no_contact_info</td>\n",
       "      <td>5</td>\n",
       "      <td>may</td>\n",
       "      <td>76</td>\n",
       "      <td>1</td>\n",
       "      <td>-1</td>\n",
       "      <td>0</td>\n",
       "      <td>NaN</td>\n",
       "      <td>no</td>\n",
       "      <td>0</td>\n",
       "      <td>0</td>\n",
       "      <td>1</td>\n",
       "    </tr>\n",
       "    <tr>\n",
       "      <th>3</th>\n",
       "      <td>47</td>\n",
       "      <td>blue-collar</td>\n",
       "      <td>married</td>\n",
       "      <td>secondary</td>\n",
       "      <td>no</td>\n",
       "      <td>1506</td>\n",
       "      <td>yes</td>\n",
       "      <td>no</td>\n",
       "      <td>no_contact_info</td>\n",
       "      <td>5</td>\n",
       "      <td>may</td>\n",
       "      <td>92</td>\n",
       "      <td>1</td>\n",
       "      <td>-1</td>\n",
       "      <td>0</td>\n",
       "      <td>NaN</td>\n",
       "      <td>no</td>\n",
       "      <td>0</td>\n",
       "      <td>1</td>\n",
       "      <td>1</td>\n",
       "    </tr>\n",
       "    <tr>\n",
       "      <th>4</th>\n",
       "      <td>33</td>\n",
       "      <td>blue-collar</td>\n",
       "      <td>single</td>\n",
       "      <td>secondary</td>\n",
       "      <td>no</td>\n",
       "      <td>1</td>\n",
       "      <td>no</td>\n",
       "      <td>no</td>\n",
       "      <td>no_contact_info</td>\n",
       "      <td>5</td>\n",
       "      <td>may</td>\n",
       "      <td>198</td>\n",
       "      <td>1</td>\n",
       "      <td>-1</td>\n",
       "      <td>0</td>\n",
       "      <td>NaN</td>\n",
       "      <td>no</td>\n",
       "      <td>1</td>\n",
       "      <td>1</td>\n",
       "      <td>1</td>\n",
       "    </tr>\n",
       "  </tbody>\n",
       "</table>\n",
       "</div>"
      ],
      "text/plain": [
       "   age           job  marital  education default  balance housing loan  \\\n",
       "0   58    management  married   tertiary      no     2143     yes   no   \n",
       "1   44    technician   single  secondary      no       29     yes   no   \n",
       "2   33  entrepreneur  married  secondary      no        2     yes  yes   \n",
       "3   47   blue-collar  married  secondary      no     1506     yes   no   \n",
       "4   33   blue-collar   single  secondary      no        1      no   no   \n",
       "\n",
       "           contact  day_of_week month  duration  campaign  pdays  previous  \\\n",
       "0  no_contact_info            5   may       261         1     -1         0   \n",
       "1  no_contact_info            5   may       151         1     -1         0   \n",
       "2  no_contact_info            5   may        76         1     -1         0   \n",
       "3  no_contact_info            5   may        92         1     -1         0   \n",
       "4  no_contact_info            5   may       198         1     -1         0   \n",
       "\n",
       "  poutcome   y  job_shadow_indicator  education_shadow_indicator  \\\n",
       "0      NaN  no                     0                           0   \n",
       "1      NaN  no                     0                           0   \n",
       "2      NaN  no                     0                           0   \n",
       "3      NaN  no                     0                           1   \n",
       "4      NaN  no                     1                           1   \n",
       "\n",
       "   contact_shadow_indicator  \n",
       "0                         1  \n",
       "1                         1  \n",
       "2                         1  \n",
       "3                         1  \n",
       "4                         1  "
      ]
     },
     "execution_count": 29,
     "metadata": {},
     "output_type": "execute_result"
    }
   ],
   "source": [
    "#poutcome tiene hartos missings (casi 80% del dataset). En el histograma se\n",
    "#vio que tal vez es porque no hubo campaña previa.\n",
    "\n",
    "poutcome_missing_df = df[df['poutcome'].isnull()]\n",
    "poutcome_missing_df.head()"
   ]
  },
  {
   "cell_type": "code",
   "execution_count": 30,
   "metadata": {},
   "outputs": [
    {
     "data": {
      "text/html": [
       "<div>\n",
       "<style scoped>\n",
       "    .dataframe tbody tr th:only-of-type {\n",
       "        vertical-align: middle;\n",
       "    }\n",
       "\n",
       "    .dataframe tbody tr th {\n",
       "        vertical-align: top;\n",
       "    }\n",
       "\n",
       "    .dataframe thead th {\n",
       "        text-align: right;\n",
       "    }\n",
       "</style>\n",
       "<table border=\"1\" class=\"dataframe\">\n",
       "  <thead>\n",
       "    <tr style=\"text-align: right;\">\n",
       "      <th></th>\n",
       "      <th>count</th>\n",
       "      <th>mean</th>\n",
       "      <th>std</th>\n",
       "      <th>min</th>\n",
       "      <th>25%</th>\n",
       "      <th>50%</th>\n",
       "      <th>75%</th>\n",
       "      <th>max</th>\n",
       "    </tr>\n",
       "  </thead>\n",
       "  <tbody>\n",
       "    <tr>\n",
       "      <th>age</th>\n",
       "      <td>36959.0</td>\n",
       "      <td>40.932114</td>\n",
       "      <td>10.430504</td>\n",
       "      <td>18.0</td>\n",
       "      <td>33.0</td>\n",
       "      <td>39.0</td>\n",
       "      <td>49.0</td>\n",
       "      <td>95.0</td>\n",
       "    </tr>\n",
       "    <tr>\n",
       "      <th>balance</th>\n",
       "      <td>36959.0</td>\n",
       "      <td>1318.722043</td>\n",
       "      <td>3039.386767</td>\n",
       "      <td>-8019.0</td>\n",
       "      <td>55.0</td>\n",
       "      <td>414.0</td>\n",
       "      <td>1358.0</td>\n",
       "      <td>102127.0</td>\n",
       "    </tr>\n",
       "    <tr>\n",
       "      <th>day_of_week</th>\n",
       "      <td>36959.0</td>\n",
       "      <td>16.145621</td>\n",
       "      <td>8.372530</td>\n",
       "      <td>1.0</td>\n",
       "      <td>9.0</td>\n",
       "      <td>17.0</td>\n",
       "      <td>22.0</td>\n",
       "      <td>31.0</td>\n",
       "    </tr>\n",
       "    <tr>\n",
       "      <th>duration</th>\n",
       "      <td>36959.0</td>\n",
       "      <td>257.738332</td>\n",
       "      <td>262.266179</td>\n",
       "      <td>0.0</td>\n",
       "      <td>101.0</td>\n",
       "      <td>177.0</td>\n",
       "      <td>318.0</td>\n",
       "      <td>4918.0</td>\n",
       "    </tr>\n",
       "    <tr>\n",
       "      <th>campaign</th>\n",
       "      <td>36959.0</td>\n",
       "      <td>2.921886</td>\n",
       "      <td>3.325601</td>\n",
       "      <td>1.0</td>\n",
       "      <td>1.0</td>\n",
       "      <td>2.0</td>\n",
       "      <td>3.0</td>\n",
       "      <td>63.0</td>\n",
       "    </tr>\n",
       "    <tr>\n",
       "      <th>pdays</th>\n",
       "      <td>36959.0</td>\n",
       "      <td>-0.962039</td>\n",
       "      <td>3.778887</td>\n",
       "      <td>-1.0</td>\n",
       "      <td>-1.0</td>\n",
       "      <td>-1.0</td>\n",
       "      <td>-1.0</td>\n",
       "      <td>528.0</td>\n",
       "    </tr>\n",
       "    <tr>\n",
       "      <th>previous</th>\n",
       "      <td>36959.0</td>\n",
       "      <td>0.000460</td>\n",
       "      <td>0.047388</td>\n",
       "      <td>0.0</td>\n",
       "      <td>0.0</td>\n",
       "      <td>0.0</td>\n",
       "      <td>0.0</td>\n",
       "      <td>7.0</td>\n",
       "    </tr>\n",
       "    <tr>\n",
       "      <th>job_shadow_indicator</th>\n",
       "      <td>36959.0</td>\n",
       "      <td>0.006900</td>\n",
       "      <td>0.082778</td>\n",
       "      <td>0.0</td>\n",
       "      <td>0.0</td>\n",
       "      <td>0.0</td>\n",
       "      <td>0.0</td>\n",
       "      <td>1.0</td>\n",
       "    </tr>\n",
       "    <tr>\n",
       "      <th>education_shadow_indicator</th>\n",
       "      <td>36959.0</td>\n",
       "      <td>0.041505</td>\n",
       "      <td>0.199459</td>\n",
       "      <td>0.0</td>\n",
       "      <td>0.0</td>\n",
       "      <td>0.0</td>\n",
       "      <td>0.0</td>\n",
       "      <td>1.0</td>\n",
       "    </tr>\n",
       "    <tr>\n",
       "      <th>contact_shadow_indicator</th>\n",
       "      <td>36959.0</td>\n",
       "      <td>0.350388</td>\n",
       "      <td>0.477098</td>\n",
       "      <td>0.0</td>\n",
       "      <td>0.0</td>\n",
       "      <td>0.0</td>\n",
       "      <td>1.0</td>\n",
       "      <td>1.0</td>\n",
       "    </tr>\n",
       "  </tbody>\n",
       "</table>\n",
       "</div>"
      ],
      "text/plain": [
       "                              count         mean          std     min    25%  \\\n",
       "age                         36959.0    40.932114    10.430504    18.0   33.0   \n",
       "balance                     36959.0  1318.722043  3039.386767 -8019.0   55.0   \n",
       "day_of_week                 36959.0    16.145621     8.372530     1.0    9.0   \n",
       "duration                    36959.0   257.738332   262.266179     0.0  101.0   \n",
       "campaign                    36959.0     2.921886     3.325601     1.0    1.0   \n",
       "pdays                       36959.0    -0.962039     3.778887    -1.0   -1.0   \n",
       "previous                    36959.0     0.000460     0.047388     0.0    0.0   \n",
       "job_shadow_indicator        36959.0     0.006900     0.082778     0.0    0.0   \n",
       "education_shadow_indicator  36959.0     0.041505     0.199459     0.0    0.0   \n",
       "contact_shadow_indicator    36959.0     0.350388     0.477098     0.0    0.0   \n",
       "\n",
       "                              50%     75%       max  \n",
       "age                          39.0    49.0      95.0  \n",
       "balance                     414.0  1358.0  102127.0  \n",
       "day_of_week                  17.0    22.0      31.0  \n",
       "duration                    177.0   318.0    4918.0  \n",
       "campaign                      2.0     3.0      63.0  \n",
       "pdays                        -1.0    -1.0     528.0  \n",
       "previous                      0.0     0.0       7.0  \n",
       "job_shadow_indicator          0.0     0.0       1.0  \n",
       "education_shadow_indicator    0.0     0.0       1.0  \n",
       "contact_shadow_indicator      0.0     1.0       1.0  "
      ]
     },
     "execution_count": 30,
     "metadata": {},
     "output_type": "execute_result"
    }
   ],
   "source": [
    "poutcome_missing_df.select_dtypes(include=['int64']).describe().T\n",
    "\n",
    "#cambia demasiado pdays (cercano a 0)"
   ]
  },
  {
   "cell_type": "code",
   "execution_count": 31,
   "metadata": {},
   "outputs": [
    {
     "data": {
      "text/html": [
       "<div>\n",
       "<style scoped>\n",
       "    .dataframe tbody tr th:only-of-type {\n",
       "        vertical-align: middle;\n",
       "    }\n",
       "\n",
       "    .dataframe tbody tr th {\n",
       "        vertical-align: top;\n",
       "    }\n",
       "\n",
       "    .dataframe thead th {\n",
       "        text-align: right;\n",
       "    }\n",
       "</style>\n",
       "<table border=\"1\" class=\"dataframe\">\n",
       "  <thead>\n",
       "    <tr style=\"text-align: right;\">\n",
       "      <th></th>\n",
       "      <th>count</th>\n",
       "      <th>unique</th>\n",
       "      <th>top</th>\n",
       "      <th>freq</th>\n",
       "    </tr>\n",
       "  </thead>\n",
       "  <tbody>\n",
       "    <tr>\n",
       "      <th>job</th>\n",
       "      <td>36959</td>\n",
       "      <td>11</td>\n",
       "      <td>blue-collar</td>\n",
       "      <td>8370</td>\n",
       "    </tr>\n",
       "    <tr>\n",
       "      <th>marital</th>\n",
       "      <td>36959</td>\n",
       "      <td>3</td>\n",
       "      <td>married</td>\n",
       "      <td>22472</td>\n",
       "    </tr>\n",
       "    <tr>\n",
       "      <th>education</th>\n",
       "      <td>36959</td>\n",
       "      <td>3</td>\n",
       "      <td>secondary</td>\n",
       "      <td>20485</td>\n",
       "    </tr>\n",
       "    <tr>\n",
       "      <th>default</th>\n",
       "      <td>36959</td>\n",
       "      <td>2</td>\n",
       "      <td>no</td>\n",
       "      <td>36201</td>\n",
       "    </tr>\n",
       "    <tr>\n",
       "      <th>housing</th>\n",
       "      <td>36959</td>\n",
       "      <td>2</td>\n",
       "      <td>yes</td>\n",
       "      <td>19990</td>\n",
       "    </tr>\n",
       "    <tr>\n",
       "      <th>loan</th>\n",
       "      <td>36959</td>\n",
       "      <td>2</td>\n",
       "      <td>no</td>\n",
       "      <td>30836</td>\n",
       "    </tr>\n",
       "    <tr>\n",
       "      <th>contact</th>\n",
       "      <td>36959</td>\n",
       "      <td>3</td>\n",
       "      <td>cellular</td>\n",
       "      <td>21734</td>\n",
       "    </tr>\n",
       "    <tr>\n",
       "      <th>month</th>\n",
       "      <td>36959</td>\n",
       "      <td>12</td>\n",
       "      <td>may</td>\n",
       "      <td>11252</td>\n",
       "    </tr>\n",
       "    <tr>\n",
       "      <th>poutcome</th>\n",
       "      <td>0</td>\n",
       "      <td>0</td>\n",
       "      <td>NaN</td>\n",
       "      <td>NaN</td>\n",
       "    </tr>\n",
       "    <tr>\n",
       "      <th>y</th>\n",
       "      <td>36959</td>\n",
       "      <td>2</td>\n",
       "      <td>no</td>\n",
       "      <td>33573</td>\n",
       "    </tr>\n",
       "  </tbody>\n",
       "</table>\n",
       "</div>"
      ],
      "text/plain": [
       "           count unique          top   freq\n",
       "job        36959     11  blue-collar   8370\n",
       "marital    36959      3      married  22472\n",
       "education  36959      3    secondary  20485\n",
       "default    36959      2           no  36201\n",
       "housing    36959      2          yes  19990\n",
       "loan       36959      2           no  30836\n",
       "contact    36959      3     cellular  21734\n",
       "month      36959     12          may  11252\n",
       "poutcome       0      0          NaN    NaN\n",
       "y          36959      2           no  33573"
      ]
     },
     "execution_count": 31,
     "metadata": {},
     "output_type": "execute_result"
    }
   ],
   "source": [
    "poutcome_missing_df.select_dtypes(include=['object']).describe().T"
   ]
  },
  {
   "cell_type": "markdown",
   "metadata": {},
   "source": [
    "Se mantiene la idea que poutcome missing es que no se hubo campaña previa, bastante parecida el dataset en variables de edad y balance pero aparece mucho pdays -1 (no hubo contacto previo). Se va a imputar con \"no preview campaign\" por mientras y también se hará una columna shadow por si es necesaria saber esta diferencia para después"
   ]
  },
  {
   "cell_type": "code",
   "execution_count": 32,
   "metadata": {},
   "outputs": [],
   "source": [
    "df['poutcome_shadow_indicator'] = df['contact'].isnull().astype(int)"
   ]
  },
  {
   "cell_type": "code",
   "execution_count": 33,
   "metadata": {},
   "outputs": [],
   "source": [
    "df['poutcome'] = df['poutcome'].fillna('no_preview_campaign') "
   ]
  },
  {
   "cell_type": "code",
   "execution_count": null,
   "metadata": {},
   "outputs": [],
   "source": []
  },
  {
   "cell_type": "markdown",
   "metadata": {
    "id": "-XDS7z9vRuln"
   },
   "source": [
    "\n",
    "\n",
    "\n",
    "---\n",
    "\n",
    "\n",
    "Se modificaron las variables missings job, education, contact y poutcome pertinentemente. Con job y education se imputó con la moda (ya que eran variables categoricas que aparecián con mucha frecuencia y no distorsionaba mucho el data set). Con contact y poutcome se intuyó que los valores missings significaban que no hubo contacto (tal vez clientes no contestaron la llamada) y que no hubo campaña previa (no se contactaron con el cliente anteriormente). Eso se refleja porque pdays es en su mayoría -1 en ambas variables (no hubo contacto previo)\n",
    "\n",
    "\n",
    "---"
   ]
  },
  {
   "cell_type": "markdown",
   "metadata": {
    "id": "indzFEcYKAFm"
   },
   "source": [
    "### Pregunta 1.2\n",
    "\n",
    "\n",
    "Genere histogramas de las variables categóricas desagregando por la variable objetivo de interés. Interprete las relaciones que observa.\n",
    "\n",
    "Responda: ¿Cuáles creen que son las variables categóricas más relevantes a la hora de determinar si el individuo hará un depósito?"
   ]
  },
  {
   "cell_type": "code",
   "execution_count": null,
   "metadata": {
    "id": "m_jdPM2tmomq"
   },
   "outputs": [
    {
     "data": {
      "image/png": "[encoded data removed]",
      "text/plain": [
       "<Figure size 2000x2500 with 9 Axes>"
      ]
     },
     "metadata": {},
     "output_type": "display_data"
    }
   ],
   "source": [
    "columnas_categoricas = [\n",
    "    'job', 'marital', 'education', 'default', 'housing', 'loan',\n",
    "    'contact', 'month', 'poutcome'\n",
    "]\n",
    "\n",
    "plt.figure(figsize=(20, 25)) # Ajusta el tamaño total de la figura\n",
    "\n",
    "for i, col in enumerate(columnas_categoricas):\n",
    "    plt.subplot(5, 3, i + 1) # Organiza los subplots\n",
    "    cross_tab_prop = pd.crosstab(df[col], df['y'], normalize='index')\n",
    "    sns.countplot(\n",
    "        data=df,\n",
    "        y=col,            # Variable categórica en el eje Y\n",
    "        hue='y',          # Desagregar por la variable objetivo 'y'\n",
    "    )\n",
    "    plt.title(f'Distribución de {col} por Resultado de Depósito (y)')\n",
    "    plt.xlabel('Conteo de Individuos')\n",
    "    plt.ylabel(col)\n",
    "    plt.legend(title='Depósito (y)')\n",
    "\n",
    "plt.tight_layout()\n",
    "plt.show()\n",
    "\n"
   ]
  },
  {
   "cell_type": "code",
   "execution_count": 49,
   "metadata": {},
   "outputs": [
    {
     "name": "stdout",
     "output_type": "stream",
     "text": [
      "\n",
      "Proporción para 'job' (%):\n",
      "y                yes     no\n",
      "job                        \n",
      "admin.         12.20  87.80\n",
      "blue-collar     7.41  92.59\n",
      "entrepreneur    8.27  91.73\n",
      "housemaid       8.79  91.21\n",
      "management     13.76  86.24\n",
      "retired        22.79  77.21\n",
      "self-employed  11.84  88.16\n",
      "services        8.88  91.12\n",
      "student        28.68  71.32\n",
      "technician     11.06  88.94\n",
      "unemployed     15.50  84.50\n",
      "\n",
      "Proporción para 'marital' (%):\n",
      "y           yes     no\n",
      "marital               \n",
      "divorced  11.95  88.05\n",
      "married   10.12  89.88\n",
      "single    14.95  85.05\n",
      "\n",
      "Proporción para 'education' (%):\n",
      "y            yes     no\n",
      "education              \n",
      "primary     8.63  91.37\n",
      "secondary  10.78  89.22\n",
      "tertiary   15.01  84.99\n",
      "\n",
      "Proporción para 'default' (%):\n",
      "y          yes     no\n",
      "default              \n",
      "no       11.80  88.20\n",
      "yes       6.38  93.62\n",
      "\n",
      "Proporción para 'housing' (%):\n",
      "y         yes    no\n",
      "housing            \n",
      "no       16.7  83.3\n",
      "yes       7.7  92.3\n",
      "\n",
      "Proporción para 'loan' (%):\n",
      "y       yes     no\n",
      "loan              \n",
      "no    12.66  87.34\n",
      "yes    6.68  93.32\n",
      "\n",
      "Proporción para 'contact' (%):\n",
      "y                  yes     no\n",
      "contact                      \n",
      "cellular         14.92  85.08\n",
      "no_contact_info   4.07  95.93\n",
      "telephone        13.42  86.58\n",
      "\n",
      "Proporción para 'month' (%):\n",
      "y        yes     no\n",
      "month              \n",
      "apr    19.68  80.32\n",
      "aug    11.01  88.99\n",
      "dec    46.73  53.27\n",
      "feb    16.65  83.35\n",
      "jan    10.12  89.88\n",
      "jul     9.09  90.91\n",
      "jun    10.22  89.78\n",
      "mar    51.99  48.01\n",
      "may     6.72  93.28\n",
      "nov    10.15  89.85\n",
      "oct    43.77  56.23\n",
      "sep    46.46  53.54\n",
      "\n",
      "Proporción para 'poutcome' (%):\n",
      "y                      yes     no\n",
      "poutcome                         \n",
      "failure              12.61  87.39\n",
      "no_preview_campaign   9.16  90.84\n",
      "other                16.68  83.32\n",
      "success              64.73  35.27\n"
     ]
    }
   ],
   "source": [
    "for col in columnas_categoricas:\n",
    "    cross_tab_prop_numeric = pd.crosstab(df[col], df['y'], normalize='index')\n",
    "    print(f\"\\nProporción para '{col}' (%):\")\n",
    "    print(cross_tab_prop_numeric[['yes', 'no']].apply(lambda x: x * 100).round(2)) # Mostrar como porcentajes"
   ]
  },
  {
   "cell_type": "markdown",
   "metadata": {
    "id": "NmETbCcCRsbP"
   },
   "source": [
    "\n",
    "\n",
    "\n",
    "---\n",
    "\n",
    "1. Job: managmenent es el que tiene más individuos que se suscriben en cantidad (casi 2000 personas), pero en porcentaje student es el que más se suscribe (28%)\n",
    "\n",
    "2. Marital: married es el que tiene más individuos que se suscriben en cantidad (casi 5000 personas), pero en porcentaje single es el que más se suscribe (15%)\n",
    "\n",
    "3. Education: secondary es el que tiene más individuos que se suscriben en cantidad, seguido por muy cerca con tertiary(casi 5000 personas), y en porcentaje tertiary es el que más se suscribe (15%), de igual manera secondary tiene un porcentaje bien parecido (11%)\n",
    "\n",
    "4. Default: cuando se experimenta default, casi todos NO se suscriben tanto en porcentaje (93%) como en cantidad de personas.\n",
    "\n",
    "5. Housing: cuando hay credito hipotecario, casi todos NO se suscriben tanto en porcentaje (92%) como en cantidad de personas\n",
    "\n",
    "6. Loan: cuando hay creditos personales, casi todos NO se suscriben tanto en porcentaje (93%) como en cantidad de personas\n",
    "\n",
    "7. Contact: celular es el que tiene más individuos que se suscriben en cantidad (casi 5000 personas y en porcentaje (15%)\n",
    "\n",
    "8. Month: mayo es el que tiene más individuos que se suscriben en cantidad (casi 2000 personas),  pero representa muy poco en porcentaje (7%) y en cambio marzo es el que más se suscribe (52%)\n",
    "\n",
    "9. Poutcome: no_preview_campaign es el que tiene más individuos que se suscriben en cantidad (casi 5000 personas). Pero eso representa muy poco en porcentaje (10%) y en general si la campaña anterior fue exitosa, la personas volvera a realizar un deposito (65%)\n",
    "\n",
    "---"
   ]
  },
  {
   "cell_type": "markdown",
   "metadata": {},
   "source": [
    "---\n",
    "\n",
    "Las variables categóricas más relevantes a la hora de determinar si el individuo hará un depósito son que no haya hecho default, que no tenga creditos (hipotecario o personal) y que se contacten via celular\n",
    "\n",
    "---"
   ]
  },
  {
   "cell_type": "markdown",
   "metadata": {
    "id": "jD0SNKf2JgUl"
   },
   "source": [
    "### Pregunta 1.3\n",
    "\n",
    "Identifique _outliers_ entre las variables numéricas del dataset. Además, impute estas observaciones si usted lo considera necesario. Justifique su decisión."
   ]
  },
  {
   "cell_type": "code",
   "execution_count": null,
   "metadata": {
    "id": "2p7tjj6lmpqz"
   },
   "outputs": [],
   "source": []
  },
  {
   "cell_type": "markdown",
   "metadata": {
    "id": "q9cmbj9IR-SH"
   },
   "source": [
    "\n",
    "\n",
    "\n",
    "---\n",
    "\n",
    "\n",
    "*Escriba* su respuesta en esta celda...\n",
    "\n",
    "\n",
    "---"
   ]
  },
  {
   "cell_type": "markdown",
   "metadata": {
    "id": "ZcIJt6BsBKLJ"
   },
   "source": [
    "## Feature Engineering"
   ]
  },
  {
   "cell_type": "markdown",
   "metadata": {
    "id": "eyoXfMGWtCKL"
   },
   "source": [
    "### Pregunta 1.4\n",
    "\n",
    " Cree un _pipeline_ de preprocesamiento con las siguientes transformaciones a las columnas correspondientes:\n",
    "\n",
    "*   **Columnas Numéricas** : Aplique un `StandardScaler` para estandarizar estas variables.\n",
    "*   **Columnas Categóricas No Binarias** : Aplique `OneHotEncoder` para crear variables dummy. Asegúrese de manejar posibles categorías desconocidas durante la transformación.\n",
    "*   **Columnas a Eliminar** : Elimine columnas que dejan de ser relavantes luego de las trasformaciones.\n",
    "*  **Columnas Dummies MultiNivel** : cree columnas dummies para las variables multi categoricas (tomando codificadas a 0s y 1s =, para su respctiva categoria)\n",
    "*  **Columnas Label Encoding MultiNivel** : Dentro de las columnas multinivel hay 2 columnas que presentan un orden natural. e.g. en la columna 'month' tenemos que 'jan' < 'feb' < 'dec'. Aplique en la columna 'month' y otra columna que deberá determinar usted un label encoder que capture ese ordenamiento natural, luego normalice con un minmax scaler para que las columnas varien entre 0 y 1.\n",
    "\n",
    "\n",
    "Una vez creado el pipeline, aplíquelo a su conjunto de features (`X`). Muestre la forma (_shape_) del dataset original y del dataset procesado para verificar los cambios. ¿Cuántas nuevas columnas hay?\n",
    "\n",
    "Adicionalmente, elimine del análisis la variable `day_of_week`. Si considera necesario realizar transformaciones adicionales a las variables, realicelas en este punto.\n",
    "\n"
   ]
  },
  {
   "cell_type": "code",
   "execution_count": null,
   "metadata": {
    "id": "jpG6TxQJnFkV"
   },
   "outputs": [],
   "source": []
  },
  {
   "cell_type": "markdown",
   "metadata": {
    "id": "8EwI7uxom8nn"
   },
   "source": [
    "## Modelos"
   ]
  },
  {
   "cell_type": "markdown",
   "metadata": {
    "id": "ulQ-zNFrJIBB"
   },
   "source": [
    "En esta sección aplicaremos los algoritmos de clasificación vistos en el curso. Específicamente, compararemos el rendimiento de los siguientes modelos:\n",
    "\n",
    "*   _Decision Tree Classifier_\n",
    "*   _Random Forest Classifier_\n",
    "*   _XGBoost Classifier_\n",
    "*   _Naïve Bayes_\n",
    "\n"
   ]
  },
  {
   "cell_type": "markdown",
   "metadata": {
    "id": "6OGw-SgYjQWY"
   },
   "source": [
    "### Pregunta 1.5\n",
    "\n",
    "Divida el conjunto de datos en conjuntos de entrenamiento y de prueba. Analice la distribución de la variable objetivo en ambos conjuntos para determinar si el conjunto de datos está balanceado o no.\n",
    "\n",
    "En caso de que el conjunto de datos no esté balanceado, asegúrese de que la división de _train_-_test_ respete el balance de las clases target para evitar que se genere un sesgo. Para esto, se recomienda leer la documentación oficial de la función `train_test_split()`: https://scikit-learn.org/stable/modules/generated/sklearn.model_selection.train_test_split.html.\n",
    "\n",
    "Use la semilla `random_state` = 123.\n"
   ]
  },
  {
   "cell_type": "code",
   "execution_count": null,
   "metadata": {
    "id": "lyVrfsP4nM8w"
   },
   "outputs": [],
   "source": []
  },
  {
   "cell_type": "markdown",
   "metadata": {
    "id": "tf1V8SxqXIta"
   },
   "source": [
    "### Pregunta 1.6\n",
    "\n",
    "Entrene un árbol clasificador sin definir profundad máxima del árbol. Llamaremos a este, \"modelo no regularizado\".\n",
    "\n",
    "Asegúrese de que el modelo sea capaz de lidiar con potenciales desbalances. Para esto se recomienda leer la documentación oficial de la *clase* `DecisionTreeClassifier()` (parámetros de inicialización): https://scikit-learn.org/stable/modules/generated/sklearn.tree.DecisionTreeClassifier.html.\n",
    "\n",
    "\n",
    "Despliege el $F_1\\ Score$ del modelo sobre la base de entrenamiento. Luego, grafique una representación del árbol entrenado. ¿Qué puede decir sobre este modelo no regularizado?"
   ]
  },
  {
   "cell_type": "code",
   "execution_count": null,
   "metadata": {
    "id": "32kULv19nQQU"
   },
   "outputs": [],
   "source": []
  },
  {
   "cell_type": "markdown",
   "metadata": {
    "id": "BAMIFq5UqH2W"
   },
   "source": [
    "\n",
    "\n",
    "\n",
    "---\n",
    "\n",
    "\n",
    "*Escriba* su respuesta en esta celda...\n",
    "\n",
    "\n",
    "---\n"
   ]
  },
  {
   "cell_type": "markdown",
   "metadata": {
    "id": "k_AX7wJDq3UZ"
   },
   "source": [
    "### Pegunta 1.7\n",
    "\n",
    "En el contexto particular de una campaña de marketing, donde probablemente la mayoría de clientes no harán depósitos, es importante identificar correctamente tanto los clientes que harán depósitos (clase minoritaria), como los clientes que no harán depósitos.\n",
    "\n",
    "En el primer caso, falsos negativos implican un cliente peridido. En el segundo caso, falsos positivos implicarían un gasto de marketing innecesario en clientes que no son de interés. En este sentido, si clasificamos a todos los clientes como individuos que no harán depósitos, el _accuracy_ será muy alto, pero el costo económico será muy grande.\n",
    "\n",
    "Para penalizar tanto falsos positivos, como falsos negativos, a la vez que se busca maximizar los verdaderos positivos, nos enfocaremos en la métrica de _performance_ $F_1\\ Score$.\n",
    "\n",
    "Calcule el $F_1\\ Score$ de su árbol no regularizado con la muestra correcta. ¿Considera que es un buen valor? Comente."
   ]
  },
  {
   "cell_type": "code",
   "execution_count": null,
   "metadata": {
    "id": "smVSPni5nRi_"
   },
   "outputs": [],
   "source": []
  },
  {
   "cell_type": "markdown",
   "metadata": {
    "id": "OqTY4zudscvW"
   },
   "source": [
    "\n",
    "\n",
    "\n",
    "---\n",
    "\n",
    "\n",
    "*Escriba* su respuesta en esta celda...\n",
    "\n",
    "\n",
    "---\n"
   ]
  },
  {
   "cell_type": "markdown",
   "metadata": {
    "id": "AcswYuH7Xdg1"
   },
   "source": [
    "### Pregunta 1.8\n",
    "\n",
    "Entrene un árbol clasificador con profundad máxima del árbol igual a 16. Llamaremos a este, \"modelo levemente regularizado\". Asegúrese de que el modelo sea capaz de lidiar con potenciales desbalances. Luego, despliege el $F_1\\ Score$ del modelo sobre la base de entrenamiento.\n",
    "\n",
    "Grafique una representación del árbol entrenado. ¿Qué puede decir sobre este modelo no regularizado?"
   ]
  },
  {
   "cell_type": "code",
   "execution_count": null,
   "metadata": {
    "id": "JhJB3LWKnTMM"
   },
   "outputs": [],
   "source": []
  },
  {
   "cell_type": "markdown",
   "metadata": {
    "id": "igUoQFf0uSO6"
   },
   "source": [
    "\n",
    "\n",
    "\n",
    "---\n",
    "\n",
    "\n",
    "*Escriba* su respuesta en esta celda...\n",
    "\n",
    "\n",
    "---\n"
   ]
  },
  {
   "cell_type": "markdown",
   "metadata": {
    "id": "qriu9tcnXg6u"
   },
   "source": [
    "### Pregunta 1.9\n",
    "\n",
    "Entrene un árbol clasificador con profundad máxima del árbol igual a 8. Llamaremos a este, \"modelo regularizado\". Asegúrese de que el modelo sea capaz de lidiar con potenciales desbalances. Luego, despliege el $F_1\\ Score$ del modelo sobre la base de entrenamiento.\n",
    "\n",
    "Grafique una representación del árbol entrenado. ¿Qué puede decir sobre este modelo no regularizado?\n"
   ]
  },
  {
   "cell_type": "code",
   "execution_count": null,
   "metadata": {
    "id": "7QmyPe8znUqp"
   },
   "outputs": [],
   "source": []
  },
  {
   "cell_type": "markdown",
   "metadata": {
    "id": "T7cltnbzuUh3"
   },
   "source": [
    "\n",
    "\n",
    "\n",
    "---\n",
    "\n",
    "\n",
    "*Escriba* su respuesta en esta celda...\n",
    "\n",
    "\n",
    "---\n"
   ]
  },
  {
   "cell_type": "markdown",
   "metadata": {
    "id": "k9bcyzCaZffm"
   },
   "source": [
    "### Pregunta 1.10\n",
    "\n",
    "Entrene 20 árboles de clasificación. Cada uno de ellos debe estar entrenado fijando la profundidad máxima del árbol `max_depth` igual a $n \\in [1,20]$. Obtenga el $F_1\\ Score$ de cada árbol con la base de entrenamiento y la base de prueba.\n",
    "\n",
    "Gafique en una misma figura $F_1\\ Score$ de entrenamiento contra $n$ y $F_1\\ Score$ de prueba contra $n$ (Eje X = $n$). ¿Cuál parece ser el parámetro óptimo $n^*$ para el árbol? ¿Qué puede decir sobre el parámetro sobre _overfitting_ y generalización?"
   ]
  },
  {
   "cell_type": "code",
   "execution_count": null,
   "metadata": {
    "id": "CjoHit5KnWsv"
   },
   "outputs": [],
   "source": []
  },
  {
   "cell_type": "markdown",
   "metadata": {
    "id": "6E-Ky5A8v4IH"
   },
   "source": [
    "\n",
    "\n",
    "\n",
    "---\n",
    "\n",
    "\n",
    "*Escriba* su respuesta en esta celda...\n",
    "\n",
    "\n",
    "---\n"
   ]
  },
  {
   "cell_type": "markdown",
   "metadata": {
    "id": "agchEM5raz5v"
   },
   "source": [
    "### Pregunta 1.11\n",
    "\n",
    "En esta pregunta deberá entrenar _Random orest Classifier_ realizando un ejercicio previo de _hyperparameter tuning_.\n",
    "\n",
    "Realice _Cross Validation_ con un _folding_ con `K=5` y calcule $F_1\\ Score$ de todas las posibles combinaciones de los siguientes parámetros:\n",
    "\n",
    "- `n_estimators = {100, 1000}`\n",
    "- `max_depth = {10, 50, 100}`\n",
    "- `min_samples_leaf = {2, 4}`\n",
    "\n",
    "Determine la mejor combinación de parámetros y vuelva a entrenar su bosque con esta. Finalmente, reporte el $F_1\\ Score$ con la muestra de prueba.\n",
    "\n",
    "Cuando realice _Cross Validation_ y cuando entrene el modelo final, asegúrese de que el modelo sea capaz de lidiar con potenciales desbalances. Para esto se recomienda leer la documentación oficial de la *clase* `RandomForestClassifier()` (parámetros de inicialización): https://scikit-learn.org/stable/modules/generated/sklearn.ensemble.RandomForestClassifier.html.\n",
    "\n"
   ]
  },
  {
   "cell_type": "code",
   "execution_count": null,
   "metadata": {
    "id": "iC6DC3Dgncsi"
   },
   "outputs": [],
   "source": []
  },
  {
   "cell_type": "markdown",
   "metadata": {
    "id": "2pDSE54mcNnt"
   },
   "source": [
    "### Pregunta 1.12\n",
    "\n",
    "En esta pregunta deberá entrenar _XGBpost Classifier_ realizando un ejercicio previo de _hyperparameter tuning_.\n",
    "\n",
    "Repita el ejercicio de _Cross Validation_ anterior, pero está vez evaluando:\n",
    "\n",
    "- `n_estimators = {100, 1000}`\n",
    "- `max_depth = {5, 50, 100}`\n",
    "- `learning_rate = {0.05, 0.1, 0.5}`\n",
    "- `max_leaves= {2, 4, 10}`\n",
    "\n",
    "Determine la mejor combinación de parámetros y vuelva a entrenar su bosque con esta, reportando el $F_1\\ Score$ con la muestra de prueba.\n",
    "\n",
    "Asegúrese de que sus modelos sean capaces de lidiar con potenciales desbalances. Para esto se recomienda leer la documentación oficial de la *clase* `XGBClassifier()` (parámetros de inicialización): https://xgboost.readthedocs.io/en/latest/python/python_api.html.\n"
   ]
  },
  {
   "cell_type": "code",
   "execution_count": null,
   "metadata": {
    "id": "SvG3J1AQnbUO"
   },
   "outputs": [],
   "source": []
  },
  {
   "cell_type": "markdown",
   "metadata": {
    "id": "g13HiQpFdA-V"
   },
   "source": [
    "### Pregunta 1.13\n",
    "\n",
    "Entrene un modelo _Naïve Bayes_. Asegúrese de que el modelo sea capaz de lidiar con potenciales desbalances. Para esto se recomienda leer la documentación oficial de la *clase* `GaussianNB()` (parámetros de inicialización): https://scikit-learn.org/stable/modules/generated/sklearn.naive_bayes.GaussianNB.html.\n",
    "\n",
    "\n",
    "Despliege el $F_1\\ Score$ del modelo sobre la base de entrenamiento."
   ]
  },
  {
   "cell_type": "code",
   "execution_count": null,
   "metadata": {
    "id": "HkCforqvnfkg"
   },
   "outputs": [],
   "source": []
  },
  {
   "cell_type": "markdown",
   "metadata": {
    "id": "2JVF3ZyGS99s"
   },
   "source": [
    "\n",
    "\n",
    "---\n",
    "\n"
   ]
  },
  {
   "cell_type": "markdown",
   "metadata": {
    "id": "RuwabtbImhnz"
   },
   "source": [
    "## Análisis Comparativo de Modelos de Clasificación\n"
   ]
  },
  {
   "cell_type": "markdown",
   "metadata": {
    "id": "9NAcUq5Onk6C"
   },
   "source": [
    "### Pregunta 1.14\n",
    "\n",
    "Evalúe y compare el desempeño de los modelos teniendo en cuenta la naturaleza del conjunto de datos. ¿Cómo afectó el desbalance a cada modelo? ¿Qué modelo manejó mejor el balance o desbalance de clases y cuáles son sus conclusiones generales sobre su rendimiento comparado?\n",
    "\n",
    "Para que la comparación sea clara, es útil indicar qué métricas de evaluación utilizo para comparar los modelos (por ejemplo, F1-score, precisión, recall, AUC, etc.)."
   ]
  },
  {
   "cell_type": "code",
   "execution_count": null,
   "metadata": {
    "id": "PqKE6yd2nCxa"
   },
   "outputs": [],
   "source": []
  },
  {
   "cell_type": "markdown",
   "metadata": {
    "id": "t3GEwINDZqEp"
   },
   "source": [
    "\n",
    "\n",
    "\n",
    "---\n",
    "\n",
    "\n",
    "*Escriba* su respuesta en esta celda...\n",
    "\n",
    "\n",
    "---\n"
   ]
  },
  {
   "cell_type": "markdown",
   "metadata": {
    "id": "b0fVGE4KKrOp"
   },
   "source": [
    "# KMeans & PCA\n",
    "\n",
    "La guerra comercial desatada levanta un montón de preguntas de interés en economía. Una de estas es: ¿Qué países sufrirán de forma similar las consecuencias de esta? ¿Quiénes serían ganadores? ¿Quienes serían perdedores?\n",
    "\n",
    "En esta parte exploraremos el aporte que los métodos de Clustering de Machine Learning pueden hacer a la respuesta de esta cuestión. Nos enfocaremos en variables relacionadas al comercio exterior para determinar similitud entre grupos de países. Más específicamente, en variables relacionadas a las exportaciones.\n",
    "\n",
    "Para esto, considere las siguientes variables que describen el perfil exportador de cada país:\n",
    "\n",
    "- GDP growth (annual %)\n",
    "- Agricultural raw materials exports (% of merchandise exports)\n",
    "- Computer, communications and other services (% of commercial service exports)\n",
    "- Exports of goods and services (% of GDP)\n",
    "- Food exports (% of merchandise exports)\n",
    "- Fuel exports (% of merchandise exports)\n",
    "- High-technology exports (% of manufactured exports)\n",
    "- ICT service exports (% of service exports, BoP)\n",
    "- Insurance and financial services (% of service exports, BoP)\n",
    "- International tourism, receipts (% of total exports)\n",
    "- Manufactures exports (% of merchandise exports)\n",
    "- Merchandise exports to high-income economies (% of total merchandise exports)\n",
    "- Merchandise exports to low- and middle-income economies in Europe & Central Asia (% of total merchandise exports)\n",
    "- Ores and metals exports (% of merchandise exports)\n",
    "- Taxes on exports (% of tax revenue)\n",
    "- Transport services (% of commercial service exports)\n",
    "\n",
    "\n",
    "La idea será determinar similitud entre países y las variables qué son más relevantes a la hora de determinarla.\n",
    "\n",
    "Debido a que 2023 es el año reciente con una mayor riqueza de datos, y debido a que nos interesan cambios respecto al _status quo_ en el contexto actual, trabajaremos con datos sólo de aquel año."
   ]
  },
  {
   "cell_type": "markdown",
   "metadata": {
    "id": "liNZQhDaaAeb"
   },
   "source": [
    "Database Source: World bank & Trade Analysis Information System.\n",
    "\n"
   ]
  },
  {
   "cell_type": "markdown",
   "metadata": {
    "id": "w-wV02TUaEPl"
   },
   "source": [
    "### Pregunta 2.0\n",
    "\n",
    "Cargue la base de datos disponible en el siguiente link: https://raw.githubusercontent.com/olherreragz/EAE3709-2025-1/refs/heads/main/T2_data/Data.cs.\n",
    "\n",
    "En el siguiente link podrá encontrar información adicional sobre el _dataset_ por si lo llega a necesitar: https://github.com/olherreragz/EAE3709-2025-1/blob/main/T2_data/Series_Metadata.csv.\n",
    "\n",
    "Elimine las columnas `\"Series Code\"` y `\"Country Code\"`. Luego, transforme su _dataframe_ de formato _Long_ a _Wide_. Su _dataframe_ final deberá contener una columna que indique el nombre del país y columnas que indiquen la medida de exportación correspondiente:\n",
    "\n",
    "`<Country>, <SeriesName1>, <SeriesName2> ....`\n",
    "\n",
    "\n",
    "\n",
    "![Long to Wide Format](https://tavareshugo.github.io/r-intro-tidyverse-gapminder/fig/07-data_shapes.png)\n",
    "\n",
    "\n"
   ]
  },
  {
   "cell_type": "code",
   "execution_count": null,
   "metadata": {
    "id": "2aDqXfqMq7kb"
   },
   "outputs": [],
   "source": []
  },
  {
   "cell_type": "markdown",
   "metadata": {
    "id": "1Qh41mXqbU2j"
   },
   "source": [
    "### Pregunta 2.1\n",
    "\n",
    "Debido a que la pregunta de interés es sobre identificación de grupos de países, elime filas donde `Country Name` sea igual a cualquiera de los siguientes valores:\n",
    "\n",
    "- \"Africa Eastern and Southern\"  \n",
    "- \"Africa Western and Central\"  \n",
    "- \"Arab World\"  \n",
    "- \"Caribbean small states\"  \n",
    "- \"Central Europe and the Baltics\"  \n",
    "- \"Early-demographic dividend\"  \n",
    "- \"East Asia & Pacific\"  \n",
    "- \"East Asia & Pacific (IDA & IBRD countries)\"  \n",
    "- \"East Asia & Pacific (excluding high income)\"  \n",
    "- \"Euro area\"  \n",
    "- \"Europe & Central Asia\"  \n",
    "- \"Europe & Central Asia (IDA & IBRD countries)\"  \n",
    "- \"Europe & Central Asia (excluding high income)\"  \n",
    "- \"European Union\"  \n",
    "- \"Fragile and conflict affected situations\"  \n",
    "- \"Heavily indebted poor countries (HIPC)\"  \n",
    "- \"High income\"  \n",
    "- \"IBRD only\"  \n",
    "- \"IDA & IBRD total\"  \n",
    "- \"IDA blend\"  \n",
    "- \"IDA only\"  \n",
    "- \"IDA total\"  \n",
    "- \"Late-demographic dividend\"  \n",
    "- \"Latin America & Caribbean\"  \n",
    "- \"Latin America & Caribbean (excluding high income)\"  \n",
    "- \"Latin America & the Caribbean (IDA & IBRD countries)\"  \n",
    "- \"Least developed countries: UN classification\"  \n",
    "- \"Low & middle income\"  \n",
    "- \"Low income\"  \n",
    "- \"Lower middle income\"  \n",
    "- \"Middle East & North Africa\"  \n",
    "- \"Middle East & North Africa (IDA & IBRD countries)\"  \n",
    "- \"Middle East & North Africa (excluding high income)\"  \n",
    "- \"Middle income\"  \n",
    "- \"North America\"  \n",
    "- \"Not classified\"  \n",
    "- \"OECD members\"  \n",
    "- \"Other small states\"  \n",
    "- \"Pacific island small states\"  \n",
    "- \"Post-demographic dividend\"  \n",
    "- \"Pre-demographic dividend\"  \n",
    "- \"Small states\"  \n",
    "- \"South Asia\"  \n",
    "- \"South Asia (IDA & IBRD)\"  \n",
    "- \"Sub-Saharan Africa\"  \n",
    "- \"Sub-Saharan Africa (IDA & IBRD countries)\"  \n",
    "- \"Sub-Saharan Africa (excluding high income)\"  \n",
    "- \"Upper middle income\"  \n",
    "- \"World\"\n",
    "\n",
    "\n"
   ]
  },
  {
   "cell_type": "code",
   "execution_count": null,
   "metadata": {
    "id": "3s_ZAF_snmCI"
   },
   "outputs": [],
   "source": []
  },
  {
   "cell_type": "markdown",
   "metadata": {
    "id": "ofrLMQgZbnU-"
   },
   "source": [
    "### Pregunta 2.2\n",
    "\n",
    "Reemplace todos los valores `\"..\"` por `NA`. Luego, transforme las columnas a variables numéricas y despliegue estadísticas descriptivas.\n"
   ]
  },
  {
   "cell_type": "code",
   "execution_count": null,
   "metadata": {
    "id": "H4CthDucnoKJ"
   },
   "outputs": [],
   "source": []
  },
  {
   "cell_type": "markdown",
   "metadata": {
    "id": "0ZA1-qSlb9QR"
   },
   "source": [
    "### Pregunta 2.3\n",
    "\n",
    "Grafique la distribución empírica de todas las variables numéricas del dataset. Comente sobre cada una de ellas."
   ]
  },
  {
   "cell_type": "code",
   "execution_count": null,
   "metadata": {
    "id": "6VFd6S1bnpSA"
   },
   "outputs": [],
   "source": []
  },
  {
   "cell_type": "markdown",
   "metadata": {
    "id": "zx1BvF5mfFzl"
   },
   "source": [
    "\n",
    "\n",
    "\n",
    "---\n",
    "\n",
    "\n",
    "*Escriba* su respuesta en esta celda...\n",
    "\n",
    "\n",
    "---\n"
   ]
  },
  {
   "cell_type": "markdown",
   "metadata": {
    "id": "YTHSDT2ccQcc"
   },
   "source": [
    "## Missing Values"
   ]
  },
  {
   "cell_type": "markdown",
   "metadata": {
    "id": "cI_AR-AacScC"
   },
   "source": [
    "### Pregunta 2.4\n",
    "\n",
    "Realice análisis de valores vacíos y tratamiento de estos. Se premiará mantener el mayor número de observaciones posibles bajo criterios razonables. Luego de esta pregunta no deben quedar nulos en el _dataframe_ a utilizar.\n"
   ]
  },
  {
   "cell_type": "code",
   "execution_count": null,
   "metadata": {
    "id": "9fHxElRrnu07"
   },
   "outputs": [],
   "source": []
  },
  {
   "cell_type": "markdown",
   "metadata": {
    "id": "iUgaRkuEdioX"
   },
   "source": [
    "## Outliers"
   ]
  },
  {
   "cell_type": "markdown",
   "metadata": {
    "id": "nVe-WtBYdiUl"
   },
   "source": [
    "### Pregunta 2.5\n",
    "\n",
    "Realice análisis de datos _outliers_. De ser necesario aplique un procesamiento de outliers, de no ser necesario justifique.\n",
    "\n",
    "Se premiará el buen criterio fundamentado."
   ]
  },
  {
   "cell_type": "code",
   "execution_count": null,
   "metadata": {
    "id": "X9-79aNWd7ka"
   },
   "outputs": [],
   "source": []
  },
  {
   "cell_type": "markdown",
   "metadata": {
    "id": "uB_EWD0xeBEI"
   },
   "source": [
    "\n",
    "\n",
    "\n",
    "---\n",
    "\n",
    "\n",
    "*Escriba* su respuesta en esta celda...\n",
    "\n",
    "\n",
    "---\n"
   ]
  },
  {
   "cell_type": "markdown",
   "metadata": {
    "id": "4KtgZLAgeJ4S"
   },
   "source": [
    "## Feature Engineering\n"
   ]
  },
  {
   "cell_type": "markdown",
   "metadata": {
    "id": "RHRrwHCjeOQt"
   },
   "source": [
    "### Pregunta 2.6\n",
    "\n",
    "Realice _feature engineering_ de las variables numéricas (para luego entrenar un modelo _K-Means_ con estas). Realice los ajustes que estime conveniente, pero su tratamiento debe incluir por lo menos estandarización de las variables.\n",
    "\n",
    "Más adelante se le pedirá comentar sobre los resultados de sus modelos, por lo que considere que sus decisiones podrían condicionar futuras preguntas.\n",
    "\n"
   ]
  },
  {
   "cell_type": "code",
   "execution_count": null,
   "metadata": {
    "id": "v19_TyO6n29C"
   },
   "outputs": [],
   "source": []
  },
  {
   "cell_type": "markdown",
   "metadata": {
    "id": "B2wxZhGQe2DR"
   },
   "source": [
    "## K-Means"
   ]
  },
  {
   "cell_type": "markdown",
   "metadata": {
    "id": "0phACBFse5FQ"
   },
   "source": [
    "### Pregunta 2.7\n",
    "\n",
    "Considerando el dataframe completo (todas sus columnas atributos), determine el número óptimo de clusters mediante el \"Elbow method\". Considere un rango $k \\in [1, 30]$. Describa el comportamiento observado de la curva.\n",
    "\n"
   ]
  },
  {
   "cell_type": "code",
   "execution_count": null,
   "metadata": {
    "id": "sIVhrILyn5gf"
   },
   "outputs": [],
   "source": []
  },
  {
   "cell_type": "markdown",
   "metadata": {
    "id": "uHY07twufOzi"
   },
   "source": [
    "\n",
    "\n",
    "\n",
    "---\n",
    "\n",
    "\n",
    "*Escriba* su respuesta en esta celda...\n",
    "\n",
    "\n",
    "---\n"
   ]
  },
  {
   "cell_type": "markdown",
   "metadata": {
    "id": "4yazbr8afPbQ"
   },
   "source": [
    "### Pregunta 2.8\n",
    "\n",
    "Un problema habitual del modelo _K-Means_ es que pierde desempeño a mayor dimensionalidad.\n",
    "\n",
    "En esta pregunta defina **por lo menos 5 combinaciones de columnas** (mínimo 2 columnas y máximo 4). Para cada combinación determine el número óptimo de clusters mediante el \"Elbow method\" considerando $k \\in [1, 30]$.\n",
    "\n",
    "Un posible enfoque para lo anterior es tomar un _approach_ estadístico y escoger variables que empíricamente muestran mayores indicios de poder diferenciador entre las observaciones. De todas formas, recuerde que la pregunta de interés es \"¿qué países se verán expuestos de forma similar a la guerra comercial?\". En este sentido, es altamente recomendable escoger variables con una mayor relación al fenómeno de la guerra comercial, ya que puede ser útil para discernir de qué forma podría verse expuesto cada grupo.\n"
   ]
  },
  {
   "cell_type": "code",
   "execution_count": null,
   "metadata": {
    "id": "1TgUQ3qTn_1e"
   },
   "outputs": [],
   "source": []
  },
  {
   "cell_type": "markdown",
   "metadata": {
    "id": "DfCJ0UdsoKYv"
   },
   "source": [
    "---\n",
    "\n",
    "\n",
    "*Escriba* su respuesta en esta celda...\n",
    "\n",
    "\n",
    "---"
   ]
  },
  {
   "cell_type": "markdown",
   "metadata": {
    "id": "x-3BnLyGf6_d"
   },
   "source": [
    "### Pregunta 2.9\n",
    "\n",
    "Escoja la combinación de columnas que considera adecuada emplear, refiriéndose tanto al comportamiento observado de la curva, como al nivel de la métrica empleada al que se alcanza la convergencia.\n",
    "\n",
    "Estime el modelo con $k$ óptimo y las columnas escogidas. Visualice los grupos graficando _scatterplots_. Considere gráficos en 3 dimensiones si su modelo posee 3 o más variables.\n",
    "\n",
    "Describa en qué se diferencian los grupos encontrados y de qué manera le podría afectar la guerra comercial a cada uno. Liste una pequeña muestra representativa de los países que contiene cada grupo.\n"
   ]
  },
  {
   "cell_type": "code",
   "execution_count": null,
   "metadata": {
    "id": "Ykx7WhqYoDR8"
   },
   "outputs": [],
   "source": []
  },
  {
   "cell_type": "markdown",
   "metadata": {
    "id": "AYngTiIioLfC"
   },
   "source": [
    "---\n",
    "\n",
    "\n",
    "*Escriba* su respuesta en esta celda...\n",
    "\n",
    "\n",
    "---"
   ]
  },
  {
   "cell_type": "markdown",
   "metadata": {
    "id": "s22z7zCcgYvP"
   },
   "source": [
    "## PCA"
   ]
  },
  {
   "cell_type": "markdown",
   "metadata": {
    "id": "r1Yb5QW2kC8a"
   },
   "source": [
    "_PCA_ es una técnica de reducción de dimensionalidad que nos permite trabajar sobre un set de componentes principales ortogonales (mayor facilidad para los modelos a la hora de detectar patrones), además de permitirnos visualizar espacios multidimensionales, quedándonos sobre el espacio de PCA.\n",
    "\n"
   ]
  },
  {
   "cell_type": "markdown",
   "metadata": {
    "id": "dTURpbklkLYF"
   },
   "source": [
    "### Pregunta 2.10\n",
    "\n",
    "Utilizando todas las variables originales y $k$ óptimo escogido en la pregunta anterior, estime un PCA con 2 componentes principales. Luego, estime un modelo _K-Means_ sobre los componentes principales obtenidos. Grafique las observaciones en un _scatterplot_ de 2 dimensiones. Coloree los puntos usando los label de los clusters obtenidos.\n",
    "\n",
    "¿Cuáles son las principales diferencias entre los grupos? Encuentre las variables más definitivas a la hora de agrupar países con los 2 primeros componentes principales.\n"
   ]
  },
  {
   "cell_type": "code",
   "execution_count": null,
   "metadata": {
    "id": "raKFyPU1oQue"
   },
   "outputs": [],
   "source": []
  },
  {
   "cell_type": "markdown",
   "metadata": {
    "id": "FmUGY54-oRDz"
   },
   "source": [
    "---\n",
    "\n",
    "\n",
    "*Escriba* su respuesta en esta celda...\n",
    "\n",
    "\n",
    "---"
   ]
  },
  {
   "cell_type": "markdown",
   "metadata": {
    "id": "i1c8s2S1kev9"
   },
   "source": [
    "### Pregunta 2.11\n",
    "\n",
    "\n",
    "Repita lo anterior  (descripción incluida), pero con 3 componentes principales y un _scatterplot_ en 3 dimensiones."
   ]
  },
  {
   "cell_type": "code",
   "execution_count": null,
   "metadata": {
    "id": "b9mfhImWoTe3"
   },
   "outputs": [],
   "source": []
  },
  {
   "cell_type": "markdown",
   "metadata": {
    "id": "mEhG29aSoTke"
   },
   "source": [
    "---\n",
    "\n",
    "\n",
    "*Escriba* su respuesta en esta celda...\n",
    "\n",
    "\n",
    "---"
   ]
  },
  {
   "cell_type": "markdown",
   "metadata": {
    "id": "e-5FNbkDgaP5"
   },
   "source": [
    "### Pregunta 2.12\n",
    "\n",
    "Otro de los usos de los más comúnes de _PCA_, además de _feature engineering_, es la visualización. En esta sección utilizaremos _PCA_ para confirmar visualmente que estamos clusterizando países similares.\n",
    "\n",
    "Usando el diccionario en la celda de abajo agrega una columna de continente al _dataframe_ de trabajo."
   ]
  },
  {
   "cell_type": "code",
   "execution_count": 34,
   "metadata": {
    "id": "xocjfeXfgehD"
   },
   "outputs": [],
   "source": [
    "country_continent_mapping = {\n",
    "    'Albania': 'Europe',\n",
    "    'Argentina': 'South America',\n",
    "    'Armenia': 'Asia',\n",
    "    'Aruba': 'North America', # Usually classified with the Caribbean\n",
    "    'Australia': 'Oceania',\n",
    "    'Austria': 'Europe',\n",
    "    'Azerbaijan': 'Asia',\n",
    "    'Bahrain': 'Asia',\n",
    "    'Belgium': 'Europe',\n",
    "    'Belize': 'North America',\n",
    "    'Bolivia': 'South America',\n",
    "    'Bosnia and Herzegovina': 'Europe',\n",
    "    'Botswana': 'Africa',\n",
    "    'Brazil': 'South America',\n",
    "    'Brunei Darussalam': 'Asia',\n",
    "    'Bulgaria': 'Europe',\n",
    "    'Burkina Faso': 'Africa',\n",
    "    'Cabo Verde': 'Africa',\n",
    "    'Canada': 'North America',\n",
    "    'Chile': 'South America',\n",
    "    'China': 'Asia',\n",
    "    'Colombia': 'South America',\n",
    "    'Congo Dem. Rep.': 'Africa',\n",
    "    'Costa Rica': 'North America',\n",
    "    'Croatia': 'Europe',\n",
    "    'Cyprus': 'Asia',\n",
    "    'Czechia': 'Europe',\n",
    "    'Denmark': 'Europe',\n",
    "    'Dominican Republic': 'North America',\n",
    "    'Ecuador': 'South America',\n",
    "    'Egypt': 'Africa', # Transcontinental, but usually Africa\n",
    "    'El Salvador': 'North America',\n",
    "    'Estonia': 'Europe',\n",
    "    'Ethiopia': 'Africa',\n",
    "    'Finland': 'Europe',\n",
    "    'France': 'Europe',\n",
    "    'Gambia': 'Africa',\n",
    "    'Georgia': 'Asia',\n",
    "    'Germany': 'Europe',\n",
    "    'Ghana': 'Africa',\n",
    "    'Greece': 'Europe',\n",
    "    'Guatemala': 'North America',\n",
    "    'Honduras': 'North America',\n",
    "    'Hong Kong': 'Asia',\n",
    "    'Hungary': 'Europe',\n",
    "    'Iceland': 'Europe',\n",
    "    'India': 'Asia',\n",
    "    'Indonesia': 'Asia',\n",
    "    'Ireland': 'Europe',\n",
    "    'Italy': 'Europe',\n",
    "    'Japan': 'Asia',\n",
    "    'Jordan': 'Asia',\n",
    "    'Kazakhstan': 'Asia', # Transcontinental, mostly Asia\n",
    "    'Kenya': 'Africa',\n",
    "    'Korea Rep.': 'Asia',\n",
    "    'Latvia': 'Europe',\n",
    "    'Lesotho': 'Africa',\n",
    "    'Lithuania': 'Europe',\n",
    "    'Luxembourg': 'Europe',\n",
    "    'Macao': 'Asia',\n",
    "    'Malaysia': 'Asia',\n",
    "    'Malta': 'Europe',\n",
    "    'Mauritania': 'Africa',\n",
    "    'Mauritius': 'Africa',\n",
    "    'Mexico': 'North America',\n",
    "    'Moldova': 'Europe',\n",
    "    'Montenegro': 'Europe',\n",
    "    'Morocco': 'Africa',\n",
    "    'Mozambique': 'Africa',\n",
    "    'Namibia': 'Africa',\n",
    "    'Netherlands': 'Europe',\n",
    "    'New Zealand': 'Oceania',\n",
    "    'Nicaragua': 'North America',\n",
    "    'Niger': 'Africa',\n",
    "    'North Macedonia': 'Europe',\n",
    "    'Norway': 'Europe',\n",
    "    'Pakistan': 'Asia',\n",
    "    'Panama': 'North America',\n",
    "    'Paraguay': 'South America',\n",
    "    'Peru': 'South America',\n",
    "    'Philippines': 'Asia',\n",
    "    'Poland': 'Europe',\n",
    "    'Portugal': 'Europe',\n",
    "    'Romania': 'Europe',\n",
    "    'Samoa': 'Oceania',\n",
    "    'Saudi Arabia': 'Asia',\n",
    "    'Senegal': 'Africa',\n",
    "    'Singapore': 'Asia',\n",
    "    'Slovak Republic': 'Europe',\n",
    "    'Slovenia': 'Europe',\n",
    "    'South Africa': 'Africa',\n",
    "    'Spain': 'Europe',\n",
    "    'Sri Lanka': 'Asia',\n",
    "    'Sweden': 'Europe',\n",
    "    'Switzerland': 'Europe',\n",
    "    'Tanzania': 'Africa',\n",
    "    'Thailand': 'Asia',\n",
    "    'Timor-Leste': 'Asia',\n",
    "    'Tunisia': 'Africa',\n",
    "    'Turkiye': 'Asia', # Transcontinental, mostly Asia\n",
    "    'Uganda': 'Africa',\n",
    "    'Ukraine': 'Europe',\n",
    "    'United Kingdom': 'Europe',\n",
    "    'United States': 'North America',\n",
    "    'Uruguay': 'South America',\n",
    "    'Uzbekistan': 'Asia',\n",
    "    'Zambia': 'Africa'\n",
    "}\n"
   ]
  },
  {
   "cell_type": "markdown",
   "metadata": {
    "id": "ZD63i3iqkzPJ"
   },
   "source": [
    "### Pregunta 2.13\n",
    "\n",
    "Realice un PCA de 2 componentes principales, grafique un _scatterplot_ del resultado y coloree cada punto según su continente. ¿Que se obserba?\n"
   ]
  },
  {
   "cell_type": "code",
   "execution_count": null,
   "metadata": {
    "id": "6b4jB-gMoeZF"
   },
   "outputs": [],
   "source": []
  },
  {
   "cell_type": "markdown",
   "metadata": {
    "id": "xktT1YAaoc0U"
   },
   "source": [
    "---\n",
    "\n",
    "\n",
    "*Escriba* su respuesta en esta celda...\n",
    "\n",
    "\n",
    "---"
   ]
  },
  {
   "cell_type": "markdown",
   "metadata": {
    "id": "b3y-DTSBk6fj"
   },
   "source": [
    "### Pregunta 2.14\n",
    "\n",
    "Genera el mismo gráfico anterior, pero ahora coloree los puntos del scatterplot usando los clusters de un KMeans de 3 clústers y `random_state=42`. Describa los clusters según el gráfico.\n",
    "\n"
   ]
  },
  {
   "cell_type": "code",
   "execution_count": null,
   "metadata": {
    "id": "GUd3NBLBogw8"
   },
   "outputs": [],
   "source": []
  },
  {
   "cell_type": "markdown",
   "metadata": {
    "id": "lDcgO6Kjog5d"
   },
   "source": [
    "---\n",
    "\n",
    "\n",
    "*Escriba* su respuesta en esta celda...\n",
    "\n",
    "\n",
    "---"
   ]
  },
  {
   "cell_type": "markdown",
   "metadata": {
    "id": "6DweNXvelFJf"
   },
   "source": [
    "### Pregunta 2.15\n",
    "\n",
    "¿Cual es la proporcion de cada cluster por continente?\n"
   ]
  },
  {
   "cell_type": "code",
   "execution_count": null,
   "metadata": {
    "id": "348X2JFCok78"
   },
   "outputs": [],
   "source": []
  },
  {
   "cell_type": "markdown",
   "metadata": {
    "id": "TGbwOcfilNON"
   },
   "source": [
    "### Pregunta 2.16\n",
    "\n",
    "¿Cuál es la característica numérica más alta en magnitud por cluster (usando sus centroides)? ¿Cuál es su signo? ¿Como nos ayuda a interpretar los clusters? ¿Que podemos concluir de cada uno de estos clusters en contexto de la guerra comercial?\n"
   ]
  },
  {
   "cell_type": "code",
   "execution_count": null,
   "metadata": {
    "id": "R-mbOcOQomp-"
   },
   "outputs": [],
   "source": []
  },
  {
   "cell_type": "markdown",
   "metadata": {
    "id": "3xP0vls6omw4"
   },
   "source": [
    "---\n",
    "\n",
    "\n",
    "*Escriba* su respuesta en esta celda...\n",
    "\n",
    "\n",
    "---"
   ]
  }
 ],
 "metadata": {
  "colab": {
   "provenance": [],
   "toc_visible": true
  },
  "kernelspec": {
   "display_name": "Python 3",
   "name": "python3"
  },
  "language_info": {
   "codemirror_mode": {
    "name": "ipython",
    "version": 3
   },
   "file_extension": ".py",
   "mimetype": "text/x-python",
   "name": "python",
   "nbconvert_exporter": "python",
   "pygments_lexer": "ipython3",
   "version": "3.9.6"
  }
 },
 "nbformat": 4,
 "nbformat_minor": 0
}
